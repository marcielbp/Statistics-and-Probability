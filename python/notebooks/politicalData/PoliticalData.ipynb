{
 "cells": [
  {
   "cell_type": "markdown",
   "metadata": {},
   "source": [
    "## TODO\n",
    "- manipulate JSON in Python [here's a useful link](https://realpython.com/python-json/)"
   ]
  },
  {
   "cell_type": "code",
   "execution_count": 24,
   "metadata": {},
   "outputs": [],
   "source": [
    "import requests\n",
    "import json"
   ]
  },
  {
   "cell_type": "markdown",
   "metadata": {},
   "source": [
    "- É preciso capturar os dados dos senadores/deputados das APIs do Senado e do Legislativo. Para isso, vamos usar a lib requests do Python.\n",
    "- Por padrão elas retornam em XML, então é preciso se atentar para passar o header informando a saída desejada:\n",
    "\n",
    "`senadores = requests.get('http://legis.senado.leg.br/dadosabertos/senador/lista/atual', headers={'Accept':'application/json'}).json()`"
   ]
  },
  {
   "cell_type": "code",
   "execution_count": 4,
   "metadata": {},
   "outputs": [],
   "source": [
    "senadores = requests.get('http://legis.senado.leg.br/dadosabertos/senador/lista/atual', headers={'Accept':'application/json'}).json()"
   ]
  },
  {
   "cell_type": "markdown",
   "metadata": {},
   "source": [
    "## Importação de dados para um único senador - modificar código"
   ]
  },
  {
   "cell_type": "code",
   "execution_count": 16,
   "metadata": {},
   "outputs": [],
   "source": [
    "senadorAtual = requests.get('http://legis.senado.leg.br/dadosabertos/senador/5976/licencas', headers={'Accept':'application/json'}).json()"
   ]
  },
  {
   "cell_type": "code",
   "execution_count": 22,
   "metadata": {},
   "outputs": [],
   "source": [
    "orcamento = requests.get('http://legis.senado.leg.br/dadosabertos/orcamento/lista', headers={'Accept':'application/json'}).json()"
   ]
  },
  {
   "cell_type": "markdown",
   "metadata": {},
   "source": [
    "## Importação dados deputados"
   ]
  },
  {
   "cell_type": "code",
   "execution_count": 25,
   "metadata": {},
   "outputs": [],
   "source": [
    "strBase = \"luizianne\" \n",
    "deputados = requests.get('https://dadosabertos.camara.leg.br/api/v2/deputados?nome='+strBase+'&ordem=ASC&ordenarPor=nome', headers={'Accept':'application/json'}).json()\n"
   ]
  },
  {
   "cell_type": "code",
   "execution_count": 26,
   "metadata": {},
   "outputs": [
    {
     "data": {
      "text/plain": [
       "{'dados': [{'id': 178866,\n",
       "   'uri': 'https://dadosabertos.camara.leg.br/api/v2/deputados/178866',\n",
       "   'nome': 'LUIZIANNE LINS',\n",
       "   'siglaPartido': 'PT',\n",
       "   'uriPartido': 'https://dadosabertos.camara.leg.br/api/v2/partidos/36844',\n",
       "   'siglaUf': 'CE',\n",
       "   'idLegislatura': 56,\n",
       "   'urlFoto': 'https://www.camara.leg.br/internet/deputado/bandep/178866.jpg',\n",
       "   'email': 'dep.luiziannelins@camara.leg.br'}],\n",
       " 'links': [{'rel': 'self',\n",
       "   'href': 'https://dadosabertos.camara.leg.br/api/v2/deputados?nome=luizianne&ordem=ASC&ordenarPor=nome'},\n",
       "  {'rel': 'first',\n",
       "   'href': 'https://dadosabertos.camara.leg.br/api/v2/deputados?nome=luizianne&ordem=ASC&ordenarPor=nome&pagina=1&itens=1000'},\n",
       "  {'rel': 'last',\n",
       "   'href': 'https://dadosabertos.camara.leg.br/api/v2/deputados?nome=luizianne&ordem=ASC&ordenarPor=nome&pagina=1&itens=1000'}]}"
      ]
     },
     "execution_count": 26,
     "metadata": {},
     "output_type": "execute_result"
    }
   ],
   "source": [
    "deputados"
   ]
  }
 ],
 "metadata": {
  "kernelspec": {
   "display_name": "Python 3",
   "language": "python",
   "name": "python3"
  },
  "language_info": {
   "codemirror_mode": {
    "name": "ipython",
    "version": 3
   },
   "file_extension": ".py",
   "mimetype": "text/x-python",
   "name": "python",
   "nbconvert_exporter": "python",
   "pygments_lexer": "ipython3",
   "version": "3.6.9"
  }
 },
 "nbformat": 4,
 "nbformat_minor": 2
}
