{
 "cells": [
  {
   "cell_type": "markdown",
   "metadata": {},
   "source": [
    "# Prática 02 - Métodos de visualização gráfica em Python usando Plotly"
   ]
  },
  {
   "cell_type": "code",
   "execution_count": 1,
   "metadata": {},
   "outputs": [
    {
     "ename": "ModuleNotFoundError",
     "evalue": "No module named 'pandas_profiling'",
     "output_type": "error",
     "traceback": [
      "\u001b[0;31m---------------------------------------------------------------------------\u001b[0m",
      "\u001b[0;31mModuleNotFoundError\u001b[0m                       Traceback (most recent call last)",
      "\u001b[0;32m<ipython-input-1-7ee1c3aca5bc>\u001b[0m in \u001b[0;36m<module>\u001b[0;34m\u001b[0m\n\u001b[1;32m      6\u001b[0m \u001b[0;32mimport\u001b[0m \u001b[0mseaborn\u001b[0m \u001b[0;32mas\u001b[0m \u001b[0msns\u001b[0m\u001b[0;34m\u001b[0m\u001b[0;34m\u001b[0m\u001b[0m\n\u001b[1;32m      7\u001b[0m \u001b[0;32mimport\u001b[0m \u001b[0mnumpy\u001b[0m \u001b[0;32mas\u001b[0m \u001b[0mnp\u001b[0m\u001b[0;34m\u001b[0m\u001b[0;34m\u001b[0m\u001b[0m\n\u001b[0;32m----> 8\u001b[0;31m \u001b[0;32mfrom\u001b[0m \u001b[0mpandas_profiling\u001b[0m \u001b[0;32mimport\u001b[0m \u001b[0mProfileReport\u001b[0m\u001b[0;34m\u001b[0m\u001b[0;34m\u001b[0m\u001b[0m\n\u001b[0m",
      "\u001b[0;31mModuleNotFoundError\u001b[0m: No module named 'pandas_profiling'"
     ]
    }
   ],
   "source": [
    "import plotly.graph_objects as go\n",
    "import plotly.offline\n",
    "import pandas as pd\n",
    "import plotly.express as px\n",
    "import matplotlib.pyplot as plt\n",
    "import seaborn as sns\n",
    "import numpy as np\n",
    "from pandas_profiling import ProfileReport"
   ]
  },
  {
   "cell_type": "markdown",
   "metadata": {},
   "source": [
    "## Visualização 3D\n",
    "Usando a biblioteca plotly:"
   ]
  },
  {
   "cell_type": "code",
   "execution_count": null,
   "metadata": {},
   "outputs": [],
   "source": [
    "# Read data from a csv\n",
    "z_data = pd.read_csv(\"elevation.csv\")\n",
    "fig = go.Figure()\n",
    "fig.add_surface(z=z_data)\n",
    "fig.show()\n",
    "# Caso se deseje salvar como html. ver a seguir:\n",
    "# plotly.offline.plot(fig, filename='plot01.html')"
   ]
  },
  {
   "cell_type": "code",
   "execution_count": null,
   "metadata": {},
   "outputs": [],
   "source": []
  },
  {
   "cell_type": "markdown",
   "metadata": {},
   "source": [
    "## Visualização de dados em multiplos gráficos"
   ]
  },
  {
   "cell_type": "markdown",
   "metadata": {},
   "source": [
    "O arquivo `iris.csv` contém dados do tamanho da [sépala](https://pt.wikipedia.org/wiki/S%C3%A9pala) e da [pétala](https://pt.wikipedia.org/wiki/P%C3%A9tala) de três espécies de Íris."
   ]
  },
  {
   "cell_type": "code",
   "execution_count": null,
   "metadata": {},
   "outputs": [],
   "source": [
    "df = pd.read_csv(\"iris.csv\")\n",
    "df."
   ]
  },
  {
   "cell_type": "code",
   "execution_count": null,
   "metadata": {},
   "outputs": [],
   "source": [
    "pd.profile(df)"
   ]
  },
  {
   "cell_type": "markdown",
   "metadata": {},
   "source": [
    "Aqui exibiremos o gráfico de espalhamento para as três espécies de Íris:\n",
    "- Setosa\n",
    "- Versicolor\n",
    "- Virgínica\n",
    "\n",
    "A opção `trendline = \"ols\"` utiliza o método [Ordinary Least Squares](https://en.wikipedia.org/wiki/Ordinary_least_squares) para regressão linear."
   ]
  },
  {
   "cell_type": "code",
   "execution_count": null,
   "metadata": {},
   "outputs": [],
   "source": [
    "fig3 = px.scatter(df, x=\"sepal-width\", y=\"sepal-len\", color=\"class\", trendline=\"ols\")\n",
    "fig3.show()"
   ]
  },
  {
   "cell_type": "markdown",
   "metadata": {},
   "source": [
    "Os parâmetros utilizados na regressão provida pelo `plotly.express` podem ser recuperados manipulando o método `get_trendline_results(figura)`"
   ]
  },
  {
   "cell_type": "code",
   "execution_count": null,
   "metadata": {},
   "outputs": [],
   "source": [
    "results = px.get_trendline_results(fig3)\n",
    "print(results)\n",
    "print(\"\\n\\n\")\n",
    "for i in range (0,len(results)):\n",
    "    print(\"Espécie:\", results['class'].iloc[i])\n",
    "    print(results.px_fit_results.iloc[i].summary())\n",
    "    print(\"\\n\\n\")"
   ]
  },
  {
   "cell_type": "markdown",
   "metadata": {},
   "source": [
    "Uma visualização mais completa pode ser feita adicionando as distribuições marginais para cada espalhamento, através dos parâmetros  `marginal_x` e `marginal_y`. São compatíveis os gráficos a seguir:\n",
    "- box\n",
    "- histogram\n",
    "- violin\n",
    "- rug"
   ]
  },
  {
   "cell_type": "code",
   "execution_count": null,
   "metadata": {},
   "outputs": [],
   "source": [
    "fig3 = px.scatter(df, x=\"sepal-width\", y=\"sepal-len\", color=\"class\", marginal_y=\"box\",\n",
    "           marginal_x=\"box\", trendline=\"ols\")\n",
    "fig3.show()\n",
    "# Para salvar a figura como .html\n",
    "# plotly.offline.plot(fig3, filename='plot02.html')"
   ]
  },
  {
   "cell_type": "markdown",
   "metadata": {},
   "source": [
    "Matriz de parâmetros"
   ]
  },
  {
   "cell_type": "code",
   "execution_count": null,
   "metadata": {},
   "outputs": [],
   "source": [
    "fig4 = px.scatter_matrix(df, dimensions=[\"sepal-width\", \"sepal-len\", \"petal-width\", \"petal-len\"], color=\"class\")\n",
    "fig4.show()"
   ]
  },
  {
   "cell_type": "code",
   "execution_count": null,
   "metadata": {},
   "outputs": [],
   "source": [
    "# tendencia não linear\n",
    "fig5 = px.scatter(df, x=\"sepal-width\", y=\"sepal-len\", color=\"class\", marginal_y=\"box\",\n",
    "           marginal_x=\"box\", trendline=\"lowess\")\n",
    "fig5.show()"
   ]
  },
  {
   "cell_type": "markdown",
   "metadata": {},
   "source": [
    "## Sunburst"
   ]
  },
  {
   "cell_type": "markdown",
   "metadata": {},
   "source": [
    "TODO\n",
    "```python\n",
    "data = dict(\n",
    "    state=[\"AC\", \"AL\", \"AP\", \"AM\", \"BA\", \"CE\", \"DF\", \"ES\", \"GO\", \"MA\", \"MT\", \"MS\", \"MG\", \"PA\", \"PB\", \"PR\", \"PE\", \"PI\", \"RJ\", \"RN\", \"RS\", \"RO\", \"RR\", \"SC\", \"SP\", \"SE\", \"TO\"],\n",
    "    region=[\"Norte\", \"Nordeste\", \"Norte\", \"Norte\", \"Nordeste\", \"Nordeste\", \"Centro-Oeste\", \"Sudeste\", \"Centro-Oeste\", \"Nordeste\", \"Centro-Oeste\", \"Centro-Oeste\", \"Sudeste\", \"Norte\", \"Nordeste\", \"Sul\", \"Nordeste\", \"Nordeste\", \"Sudeste\", \"Nordeste\", \"Sul\", \"Norte\", \"Norte\", \"Sul\", \"Sudeste\", \"Nordeste\", \"Norte\"],\n",
    "value=[8, 33, 8, 41, 148, 91, 30, 40, 70, 70, 34, 27, 211, 86, 40, 114, 95, 32, 172, 35, 113, 17, 6, 71, 459, 22, 15],    )\n",
    "\n",
    "fig6 =px.sunburst(\n",
    "    data,\n",
    "    names='state',\n",
    "    parents='region',\n",
    "    values='value',\n",
    ")\n",
    "fig6.show()\n",
    "plotly.offline.plot(fig6, filename='plot03.html')\n",
    "```"
   ]
  },
  {
   "cell_type": "code",
   "execution_count": null,
   "metadata": {},
   "outputs": [],
   "source": [
    "fig7 = go.Figure()\n",
    "\n",
    "fig7.add_trace(go.Barpolar(\n",
    "    r=[77.5, 72.5, 70.0, 45.0, 22.5, 42.5, 40.0, 62.5],\n",
    "    theta = ['North', 'N-E', 'East', 'S-E', 'South', 'S-W', 'West', 'N-W'],\n",
    "    name='11-14 m/s',\n",
    "    marker_color='red'\n",
    "))\n",
    "fig7.add_trace(go.Barpolar(\n",
    "    r=[57.5, 50.0, 45.0, 35.0, 20.0, 22.5, 37.5, 55.0],\n",
    "        theta = ['North', 'N-E', 'East', 'S-E', 'South', 'S-W', 'West', 'N-W'],\n",
    "    name='8-11 m/s',\n",
    "    marker_color='orange'\n",
    "))\n",
    "fig7.add_trace(go.Barpolar(\n",
    "    r=[40.0, 30.0, 30.0, 35.0, 7.5, 7.5, 32.5, 40.0],\n",
    "        theta = ['North', 'N-E', 'East', 'S-E', 'South', 'S-W', 'West', 'N-W'],\n",
    "    name='5-8 m/s',\n",
    "    marker_color='yellow'\n",
    "))\n",
    "fig7.add_trace(go.Barpolar(\n",
    "    r=[20.0, 7.5, 15.0, 22.5, 2.5, 2.5, 12.5, 22.5],\n",
    "        theta = ['North', 'N-E', 'East', 'S-E', 'South', 'S-W', 'West', 'N-W'],\n",
    "    name='< 5 m/s',\n",
    "    marker_color='green'\n",
    "))\n",
    "\n",
    "fig7.update_traces(text=['North', 'N-E', 'East', 'S-E', 'South', 'S-W', 'West', 'N-W'])\n",
    "fig7.update_layout(\n",
    "    title='Wind Speed Distribution in Laurel, NE',\n",
    "    font_size=16,\n",
    "    legend_font_size=16,\n",
    "    polar_angularaxis_rotation=90,\n",
    ")\n",
    "fig7.show()"
   ]
  },
  {
   "cell_type": "markdown",
   "metadata": {},
   "source": [
    "## Matriz de correlação como mapa de calor"
   ]
  },
  {
   "cell_type": "code",
   "execution_count": null,
   "metadata": {},
   "outputs": [],
   "source": [
    "# dados da ìris\n",
    "corrmat = df.corr() \n",
    "  \n",
    "f, ax = plt.subplots(figsize =(12, 10)) \n",
    "sns.heatmap(corrmat, ax = ax, cmap =\"YlGnBu\", linewidths = 0.1)"
   ]
  },
  {
   "cell_type": "markdown",
   "metadata": {},
   "source": [
    "## Mapa de Calor como histograma 2D\n",
    " - Exemplo com contorno (smooth)"
   ]
  },
  {
   "cell_type": "code",
   "execution_count": null,
   "metadata": {},
   "outputs": [],
   "source": [
    "x = np.random.uniform(-1, 1, size=5000)\n",
    "y = np.random.uniform(-1, 1, size=5000)\n",
    "\n",
    "fig = go.Figure(go.Histogram2dContour(\n",
    "        x = x,\n",
    "        y = y,\n",
    "        colorscale = 'Blues'\n",
    "))\n",
    "\n",
    "fig.show()"
   ]
  },
  {
   "cell_type": "markdown",
   "metadata": {},
   "source": [
    "- Exemplo como grid. z = quantidade de elementos na posição"
   ]
  },
  {
   "cell_type": "code",
   "execution_count": null,
   "metadata": {},
   "outputs": [],
   "source": [
    "fig = go.Figure(go.Histogram2d(\n",
    "        x=x,\n",
    "        y=y,\n",
    "        colorscale = 'Blues'\n",
    "    ))\n",
    "fig.show()"
   ]
  },
  {
   "cell_type": "markdown",
   "metadata": {},
   "source": [
    "- Mapa de calor com botões para reestilização"
   ]
  },
  {
   "cell_type": "code",
   "execution_count": null,
   "metadata": {},
   "outputs": [],
   "source": [
    "# load dataset\n",
    "df = pd.read_csv(\"https://raw.githubusercontent.com/plotly/datasets/master/volcano.csv\")\n",
    "\n",
    "# create figure\n",
    "fig = go.Figure()\n",
    "\n",
    "# Add surface trace\n",
    "fig.add_trace(go.Surface(z=df.values.tolist(), colorscale=\"Viridis\"))\n",
    "\n",
    "# Update plot sizing\n",
    "fig.update_layout(\n",
    "    width=800,\n",
    "    height=900,\n",
    "    autosize=False,\n",
    "    margin=dict(t=0, b=0, l=0, r=0),\n",
    "    template=\"plotly_white\",\n",
    ")\n",
    "\n",
    "# Update 3D scene options\n",
    "fig.update_scenes(\n",
    "    aspectratio=dict(x=1, y=1, z=0.7),\n",
    "    aspectmode=\"manual\"\n",
    ")\n",
    "\n",
    "# Add dropdown\n",
    "fig.update_layout(\n",
    "    updatemenus=[\n",
    "        go.layout.Updatemenu(\n",
    "            type = \"buttons\",\n",
    "            direction = \"left\",\n",
    "            buttons=list([\n",
    "                dict(\n",
    "                    args=[\"type\", \"surface\"],\n",
    "                    label=\"3D Surface\",\n",
    "                    method=\"restyle\"\n",
    "                ),\n",
    "                dict(\n",
    "                    args=[\"type\", \"heatmap\"],\n",
    "                    label=\"Heatmap\",\n",
    "                    method=\"restyle\"\n",
    "                )\n",
    "            ]),\n",
    "            pad={\"r\": 10, \"t\": 10},\n",
    "            showactive=True,\n",
    "            x=0.11,\n",
    "            xanchor=\"left\",\n",
    "            y=1.1,\n",
    "            yanchor=\"top\"\n",
    "        ),\n",
    "    ]\n",
    ")\n",
    "\n",
    "# Add annotation\n",
    "fig.update_layout(\n",
    "    annotations=[\n",
    "        go.layout.Annotation(text=\"Trace type:\", showarrow=False,\n",
    "                             x=0, y=1.08, yref=\"paper\", align=\"left\")\n",
    "    ]\n",
    ")\n",
    "\n",
    "fig.show()"
   ]
  }
 ],
 "metadata": {
  "kernelspec": {
   "display_name": "Python 3",
   "language": "python",
   "name": "python3"
  },
  "language_info": {
   "codemirror_mode": {
    "name": "ipython",
    "version": 3
   },
   "file_extension": ".py",
   "mimetype": "text/x-python",
   "name": "python",
   "nbconvert_exporter": "python",
   "pygments_lexer": "ipython3",
   "version": "3.6.9"
  }
 },
 "nbformat": 4,
 "nbformat_minor": 2
}
