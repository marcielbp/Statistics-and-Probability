{
 "cells": [
  {
   "cell_type": "markdown",
   "metadata": {},
   "source": [
    "# Encontro II\n",
    "\n",
    "## Objetivo\n",
    "\n",
    "Neste segundo encontro vamos discutir os seguintes assuntos: \n",
    "\n",
    "  - Estruturas numpy;\n",
    "  - Álgebra linear usando numpy e modulos associados;\n",
    "  - Distribuições de probabilidade;\n",
    "  - Otimização;\n",
    "  - Integração e derivação numéricas;\n",
    "  - Exemplos.\n",
    "\n",
    "A biblioteca `numpy` é o centro de toda computação científica em python. Ela implementa objetos `array` multidimensionais de alta performance e métodos para manipular tais objetos. \n",
    "\n",
    "## Estruturas numpy\n",
    "\n",
    "Um `numpy array` é um gride de valores todos de mesmo tipo indexado por um `tuple` de inteiros não negativos. O número de dimensões é o `size` do `array` e o `shape` do `array` é uma `tuple` que mostra o tamanho de cada dimensão. Podemos inicializar arrays usando objetos do tipo `list` e acessar elementos do array usando colchetes (*square brackets*).\n"
   ]
  },
  {
   "cell_type": "code",
   "execution_count": 1,
   "metadata": {},
   "outputs": [
    {
     "name": "stdout",
     "output_type": "stream",
     "text": [
      "<class 'numpy.ndarray'>\n",
      "3\n",
      "(3,)\n",
      "[10  2  3]\n",
      "[[1 2 3]\n",
      " [4 5 6]]\n",
      "6\n",
      "(2, 3)\n"
     ]
    }
   ],
   "source": [
    "import numpy as np\n",
    "a = np.array([1, 2, 3]) # Cria um array de rank = 1\n",
    "print(type(a))\n",
    "print(a.size) # Tamanho\n",
    "print(a.shape) # Dimensão\n",
    "\n",
    "a[0] = 10 # Modifica um elemento do array\n",
    "print(a)\n",
    "\n",
    "b = np.array([[1,2,3],[4,5,6]]) # array 2 linhas e 3 colunas\n",
    "print(b)\n",
    "print(b.size)\n",
    "print(b.shape)"
   ]
  },
  {
   "cell_type": "markdown",
   "metadata": {},
   "source": [
    "`Numpy` também fornece várias opções para inicializar arrays."
   ]
  },
  {
   "cell_type": "code",
   "execution_count": 16,
   "metadata": {},
   "outputs": [
    {
     "name": "stdout",
     "output_type": "stream",
     "text": [
      "[[ 0.  0.  0.]\n",
      " [ 0.  0.  0.]\n",
      " [ 0.  0.  0.]]\n",
      "[[ 1.  1.  1.]\n",
      " [ 1.  1.  1.]]\n",
      "[[10 10 10 10]\n",
      " [10 10 10 10]\n",
      " [10 10 10 10]\n",
      " [10 10 10 10]]\n",
      "[[ 1.  0.  0.]\n",
      " [ 0.  1.  0.]\n",
      " [ 0.  0.  1.]]\n",
      "[[ 0.23672878  0.58462308]\n",
      " [ 0.19209855  0.02922875]]\n"
     ]
    }
   ],
   "source": [
    "a = np.zeros((3,3))   # array de zeros 2x2\n",
    "print(a)\n",
    "\n",
    "b = np.ones((2,3))    # array de 1's 2x3\n",
    "print(b)\n",
    "\n",
    "c = np.full((4,4), 10)  # array 4x4 com todas as entradas iguais a 10\n",
    "print(c)\n",
    "\n",
    "d = np.eye(3)         # Matrix identidade 3x3\n",
    "print(d)\n",
    "\n",
    "e = np.random.random((2,2))  # Matrix 3x3 de números aleatórios\n",
    "print(e)"
   ]
  },
  {
   "cell_type": "markdown",
   "metadata": {},
   "source": [
    "### Acessando elementos do array\n",
    "\n",
    "Similar a objetos do tipo `list` um `array` pode ser fatiados (*sliced*). Como os arrays são multidimensionais podemos especificar uma fatia para cada dimensão do `array`."
   ]
  },
  {
   "cell_type": "code",
   "execution_count": 71,
   "metadata": {},
   "outputs": [
    {
     "name": "stdout",
     "output_type": "stream",
     "text": [
      "(3, 4)\n",
      "[1 2 3 4]\n",
      "[[1 2 3 4]\n",
      " [5 6 7 8]]\n",
      "[ 9 10 11 12]\n"
     ]
    }
   ],
   "source": [
    "a = np.array([[1,2,3,4], [5,6,7,8], [9,10,11,12]]) # array \n",
    "print(a.shape) # 3x4\n",
    "print(a[0,]) # Primeira linha\n",
    "print(a[0:2,]) # Primeira e segunda linha\n",
    "print(a[2,]) # Terceira linha"
   ]
  },
  {
   "cell_type": "markdown",
   "metadata": {},
   "source": [
    "Acessando as colunas do `array`."
   ]
  },
  {
   "cell_type": "code",
   "execution_count": 72,
   "metadata": {},
   "outputs": [
    {
     "name": "stdout",
     "output_type": "stream",
     "text": [
      "[[ 3  4]\n",
      " [ 7  8]\n",
      " [11 12]]\n",
      "[ 4  8 12]\n",
      "[[ 3]\n",
      " [ 7]\n",
      " [11]]\n"
     ]
    }
   ],
   "source": [
    "print(a[:,2:4]) # Terceira e quarta coluna\n",
    "print(a[:,3]) # Apenas a quarta coluna rsrs\n",
    "print(a[:,2:3]) # Isso é estranho!!"
   ]
  },
  {
   "cell_type": "markdown",
   "metadata": {},
   "source": [
    "Acessando elementos específicos."
   ]
  },
  {
   "cell_type": "code",
   "execution_count": 85,
   "metadata": {},
   "outputs": [
    {
     "name": "stdout",
     "output_type": "stream",
     "text": [
      "[7 8]\n",
      "[[100   3]\n",
      " [  6   7]]\n",
      "[[  1 100   3   4]\n",
      " [  5   6   7   8]\n",
      " [  9  10  11  12]]\n",
      "[[50  3]\n",
      " [ 6  7]]\n",
      "[[  1 100   3   4]\n",
      " [  5   6   7   8]\n",
      " [  9  10  11  12]]\n"
     ]
    }
   ],
   "source": [
    "a[1,1] # Segunda linha segunda coluna\n",
    "print(a[1,2:4]) # Segunda linha colunas 3 e 4.\n",
    "\n",
    "# Tirando apenas uma fatia do array e criando um novo\n",
    "b = a[:2, 1:3]\n",
    "print(b) \n",
    "# Mais cuidado os objetos ainda são os mesmos\n",
    "b[0,0] = 100\n",
    "print(a) \n",
    "\n",
    "# Evitando esse comportamento usando função deepcopy do module copy\n",
    "from copy import deepcopy\n",
    "c = deepcopy(a[:2, 1:3])\n",
    "c[0,0] = 50\n",
    "print(c)\n",
    "print(a)"
   ]
  },
  {
   "cell_type": "markdown",
   "metadata": {},
   "source": [
    "Capturar pedaços de um `array` que não sejam fatias é um pouco mais complicado. \n",
    "Suponha que queremos capturar a primeira e terceira linhas."
   ]
  },
  {
   "cell_type": "code",
   "execution_count": 94,
   "metadata": {},
   "outputs": [
    {
     "name": "stdout",
     "output_type": "stream",
     "text": [
      "[[ 1  2  3  4]\n",
      " [ 5  6  7  8]\n",
      " [ 9 10 11 12]]\n",
      "[[100   2   3   4]\n",
      " [  9  10  11  12]]\n",
      "(2, 4)\n"
     ]
    }
   ],
   "source": [
    "a = np.array([[1,2,3,4], [5,6,7,8], [9,10,11,12]])\n",
    "b = np.array([a[0,],a[2,]]) # novo array\n",
    "b[0,0] = 100\n",
    "print(a) # note que agora realmente temos um novo array que não altera o array anterior\n",
    "print(b)\n",
    "print(b.shape) #2x4"
   ]
  },
  {
   "cell_type": "markdown",
   "metadata": {},
   "source": [
    "Importante entender o que acontece com objetos `array`. Quando capturamos um `slice` do `array` a fatia capturada ainda é parte do `array` original e portanto qualquer modificação na fatia vai mudar também o `array`. Entretanto, quando capturamos fatias ou pedaços de um `array` e com essas fatias ou pedaços criamos um novo `array` que portanto não é mais parte do `array` original. Assim, mudanças no novo `array` não afetaram o `array` original."
   ]
  },
  {
   "cell_type": "markdown",
   "metadata": {},
   "source": [
    "Podemos selecionar elementos de um `array` usando variáveis boleanas. "
   ]
  },
  {
   "cell_type": "code",
   "execution_count": 96,
   "metadata": {},
   "outputs": [
    {
     "data": {
      "text/plain": [
       "array([ 3,  4,  5,  6,  7,  8,  9, 10, 11, 12])"
      ]
     },
     "execution_count": 96,
     "metadata": {},
     "output_type": "execute_result"
    }
   ],
   "source": [
    "a[a > 2]"
   ]
  },
  {
   "cell_type": "markdown",
   "metadata": {},
   "source": [
    "Existem muitas opções de como manipular e capturar fatias e/ou pedaços de `array` usando `numpy` para mais detalhes ver (http://docs.scipy.org/doc/numpy/reference/arrays.indexing.html)."
   ]
  },
  {
   "cell_type": "markdown",
   "metadata": {},
   "source": [
    "## Álgebra linear usando `numpy`\n",
    "\n",
    "A classe `ndarray` disponibilizada pela biblioteca `numpy` é muito geral e flexível. Entretanto, em estatística em geral estamos interessados em matrizes. Uma matriz nada mais é do que um `array` bidimensional. Devido a sua importância não apenas em estatística mais em diversas áreas a biblioteca `numpy` oferece ferramentas específicas para trabalhar com matrizes em python. Para inicializar uma matriz em python o processo é muito similar a inicialização de um `array`. O interessante é que agora operações matemáticas simples podem ser feitas em todos os elementos da matriz que pode ser apenas um vetor linha ou coluna como mostra o código abaixo."
   ]
  },
  {
   "cell_type": "code",
   "execution_count": 9,
   "metadata": {},
   "outputs": [
    {
     "name": "stdout",
     "output_type": "stream",
     "text": [
      "[[2 4 6]]\n",
      "[[2]\n",
      " [4]\n",
      " [6]]\n",
      "[[ 1.          1.41421356  1.73205081]]\n",
      "[[  2.71828183   7.3890561   20.08553692]]\n",
      "[[ 0.          0.69314718  1.09861229]]\n",
      "[[2 4 6]]\n",
      "[[0]\n",
      " [0]\n",
      " [0]]\n",
      "[[ 1.  1.  1.]]\n",
      "[[1 4 9]]\n"
     ]
    }
   ],
   "source": [
    "a = np.matrix([[1,2,3]]) # vetor linha\n",
    "a.shape\n",
    "b = a.T # transposto (vetor coluna)\n",
    "\n",
    "print(a * 2) # Multiplicação por constante\n",
    "print(b * 2)\n",
    "\n",
    "print(np.sqrt(a)) # Raiz de cada elemento de a\n",
    "print(np.exp(a)) # Exponencial de cada elemento de a\n",
    "print(np.log(a)) # Logaritmo de cada elemento de a\n",
    "\n",
    "print(a + a) # Soma dois vetores (elementwise)\n",
    "print(b - b) # Subtrai dois vetores\n",
    "print(a/a) # Divisão elementwise\n",
    "print(np.multiply(a,a)) # multiplicação elementwise"
   ]
  },
  {
   "cell_type": "markdown",
   "metadata": {},
   "source": [
    "Para inicializar uma matriz usando a `numpy` usamos uma sintaxe parecida com a inicialização de uma `list`."
   ]
  },
  {
   "cell_type": "code",
   "execution_count": 3,
   "metadata": {},
   "outputs": [
    {
     "name": "stdout",
     "output_type": "stream",
     "text": [
      "(3, 3)\n",
      "(3, 3)\n"
     ]
    }
   ],
   "source": [
    "A = np.matrix([ [1, 0.8, 0.6], [0.8, 1, 0.4], [0.6, 0.4, 1]])\n",
    "B = np.matrix([ [1, 0.2, 0.3], [0.2, 1, 0.5], [0.3, 0.5, 1]])\n",
    "print(A.shape)\n",
    "print(B.shape)"
   ]
  },
  {
   "cell_type": "markdown",
   "metadata": {},
   "source": [
    "Operações matriciais são executadas de forma intuitiva."
   ]
  },
  {
   "cell_type": "code",
   "execution_count": 7,
   "metadata": {},
   "outputs": [
    {
     "name": "stdout",
     "output_type": "stream",
     "text": [
      "[[ 2.   1.   0.9]\n",
      " [ 1.   2.   0.9]\n",
      " [ 0.9  0.9  2. ]]\n",
      "[[ 0.   0.6  0.3]\n",
      " [ 0.6  0.  -0.1]\n",
      " [ 0.3 -0.1  0. ]]\n",
      "[[ 1.34  1.3   1.3 ]\n",
      " [ 1.12  1.36  1.14]\n",
      " [ 0.98  1.02  1.38]]\n",
      "[ 1.  1.  1.]\n",
      "[[ 2.71828183  2.22554093  1.8221188 ]\n",
      " [ 2.22554093  2.71828183  1.4918247 ]\n",
      " [ 1.8221188   1.4918247   2.71828183]]\n"
     ]
    }
   ],
   "source": [
    "print(A + B) # Soma Elementwise\n",
    "print(A - B) # Subtração\n",
    "print(np.dot(A,B)) # Multiplicação matricial\n",
    "print(np.diag(A)) # Pega só a diagonal\n",
    "print(np.exp(A)) # Exponencial de cada entrada - util para geoestatística ;)"
   ]
  },
  {
   "cell_type": "markdown",
   "metadata": {},
   "source": [
    "As principais operações de álgebra linear estão implementadas em um modulo extra da `numpy` chamado de `numpy.linalg`. Sendo, vamos importar a biblioteca `numpy.linalg` usando apenas o prefixo `lp` e fazer algumas operações matriciais básicas como inversão, cálculo de determinantes e decomposições de autovalor e autovetor e Cholesky. Também podemos obter algumas propriedades da matrix como sua norma e rank."
   ]
  },
  {
   "cell_type": "code",
   "execution_count": 9,
   "metadata": {},
   "outputs": [
    {
     "name": "stdout",
     "output_type": "stream",
     "text": [
      "[[ 3.75       -2.5        -1.25      ]\n",
      " [-2.5         2.85714286  0.35714286]\n",
      " [-1.25        0.35714286  1.60714286]]\n",
      "0.224\n",
      "(array([ 2.21493472,  0.16242348,  0.6226418 ]), matrix([[ 0.63457746,  0.75716113, -0.15497893],\n",
      "        [ 0.58437383, -0.60130182, -0.54492509],\n",
      "        [ 0.50578521, -0.25523155,  0.82403773]]))\n",
      "[[ 1.          0.          0.        ]\n",
      " [ 0.8         0.6         0.        ]\n",
      " [ 0.6        -0.13333333  0.78881064]]\n",
      "2.30651251893\n",
      "3\n"
     ]
    }
   ],
   "source": [
    "import numpy.linalg as lp\n",
    "\n",
    "print(lp.inv(A)) # inverse de A\n",
    "print(lp.det(A)) # determinante de A\n",
    "\n",
    "print(lp.eig(A)) # Autovalores e autovetores\n",
    "print(lp.cholesky(A)) # Decomposição de Cholesky\n",
    "\n",
    "print(lp.norm(A)) # Norma\n",
    "print(lp.matrix_rank(A)) # Rank (numero de colunas li)"
   ]
  },
  {
   "cell_type": "markdown",
   "metadata": {},
   "source": [
    "Outra ferramenta muito útil é a solução de sistemas lineares do tipo $Ax = b$. Em python isso é facilmente implementado, novamente usando o modulo `numpy.linalg`."
   ]
  },
  {
   "cell_type": "code",
   "execution_count": 11,
   "metadata": {},
   "outputs": [
    {
     "data": {
      "text/plain": [
       "matrix([[-5.        ],\n",
       "        [ 4.28571429],\n",
       "        [ 4.28571429]])"
      ]
     },
     "execution_count": 11,
     "metadata": {},
     "output_type": "execute_result"
    }
   ],
   "source": [
    "A = np.matrix([ [1, 0.8, 0.6], [0.8, 1, 0.4], [0.6, 0.4, 1]])\n",
    "b = np.matrix([[1,2,3]]).T # Note o transposto precisamos de um vetor coluna\n",
    "lp.solve(A,b)"
   ]
  },
  {
   "cell_type": "markdown",
   "metadata": {},
   "source": [
    "## Distribuições de probabilidade\n",
    "\n",
    "As principais distribuições de probabilidade estão implementadas na biblioteca `scipy.stats`. Todas as distribuições implementadas nesta biblioteca tem um conjunto rico de métodos os principais são:\n",
    "\n",
    "  - pdf: função densidade probabilidade ou função de probabilidade.\n",
    "  - cdf: função de distribuição acumulada.\n",
    "  - sf: função de sobreviência (complementar da cdf).\n",
    "  - ppf: função quantil (inversa da cdf).\n",
    "  - isf: inversa da função de sobreviência (complementar do inverso da cdf).\n",
    "  - stats: esperança, variância, assimetria (skew) e curtose.\n",
    "  - moment: Momentos não centrais.\n",
    "  - rvs: amostras aleatórias.\n",
    "\n",
    "Interessante notar que funções como a pdf e cdf são definidas na reta real, mesmo que a distribuição não corresponda a este suporte. Neste caso as funções vão retornar zero no caso da pdf e 0 ou 1 no caso da cdf. Por exemplo, o suporta da distribuição beta é o intervalo aberto (0,1). Assim, se a pdf fora deste intervalo será 0 e a cdf abaixo de 0 será 0 e acima de 1 será 1. \n",
    "\n",
    "Outro aspecto interessante da forma como a biblioteca `scipy.stats` implementa as distribuições é que você pode usá-las de duas formas: a primeira é a chamada forma congelada onde você inicializa a distribuição com os parâmetros de interesse e depois usa. A segunda você aplica a função diretamente passando como argumentos o ponto e os parâmetros para a avaliação da função. Vamos ver um exemplo,"
   ]
  },
  {
   "cell_type": "code",
   "execution_count": 20,
   "metadata": {},
   "outputs": [
    {
     "name": "stdout",
     "output_type": "stream",
     "text": [
      "0.0880163316911\n",
      "0.0880163316911\n"
     ]
    }
   ],
   "source": [
    "import scipy.stats as sp\n",
    "\n",
    "print(sp.norm.pdf(5, 3, 4)) # Avalia a distribuição Normal com mu = 3 e sigma2 = 4 no ponto 5.\n",
    "\n",
    "mydist = sp.norm(3, 4) # Modo frozen \n",
    "print(mydist.pdf(5))"
   ]
  },
  {
   "cell_type": "markdown",
   "metadata": {},
   "source": [
    "A biblioteca `scipy.stats` é muito rica em distribuições e a documentação é muito detalhada recomendo que veja o site da biblioteca [scipy.stats](https://docs.scipy.org/doc/scipy/reference/stats.html). Um outro aspecto útil é que todas as distribuições contínuas estão implementadas como um modelo de locação e escala. Esta é uma abordagem um pouco não usual, mas uma grande vantagem é que sabemos a parametrização de todas as distribuições contínuas previamente. A lista de distribuições é muito extensa e inclui distribuições multivariadas como a Gaussiana, Dirichlet e Wishart. \n",
    "\n",
    "Como um exemplo para explorar como usamos as distribuições da `scipy.stats` vou usar em um primeiro momento a distribuição Gaussiana porque suas propriedades são bem conhecidas. Em um segundo momento fazer usar uma distribuição não usual como a *generalized extreme value distribution*. Vamos calcular algumas quantidades da distribuição Gaussiana."
   ]
  },
  {
   "cell_type": "code",
   "execution_count": 59,
   "metadata": {},
   "outputs": [
    {
     "name": "stdout",
     "output_type": "stream",
     "text": [
      "10.0 25.0 0.0 0.0\n"
     ]
    }
   ],
   "source": [
    "my_norm = sp.norm(loc = 10, scale = 5)\n",
    "# Aspectos da distribuição\n",
    "my_norm.expect() # Esperança\n",
    "my_norm.median() # Mediana\n",
    "my_norm.moment(n = 1) # Primeiro momento (esperança)\n",
    "my_norm.moment(n = 2) # Segundo momento\n",
    "my_norm.stats() # Média e variancia\n",
    "my_norm.std() # Erro padrão\n",
    "my_norm.var() # Variance\n",
    "my_norm.entropy() # Entropia\n",
    "\n",
    "mean, var, skew, kurt = my_norm.stats(moments = 'mvsk')\n",
    "print(mean, var, skew, kurt)"
   ]
  },
  {
   "cell_type": "markdown",
   "metadata": {},
   "source": [
    "Ainda não falamos sobre gráficos em python, mas eu vou inicializar uma figura, mais detalhes serão vistos nos próximos encontros. \n",
    "Gráfico da função densidade probabilidade."
   ]
  },
  {
   "cell_type": "code",
   "execution_count": 77,
   "metadata": {},
   "outputs": [
    {
     "data": {
      "text/plain": [
       "[<matplotlib.lines.Line2D at 0x7ff530b96a20>]"
      ]
     },
     "execution_count": 77,
     "metadata": {},
     "output_type": "execute_result"
    }
   ],
   "source": [
    "import matplotlib.pyplot as plt\n",
    "fig, ax = plt.subplots(1, 1)\n",
    "\n",
    "x = np.linspace(my_norm.ppf(0.01), my_norm.ppf(0.99), 100)\n",
    "ax.plot(x, my_norm.pdf(x), 'r-', lw=1, alpha=0.6, label='norm pdf')"
   ]
  },
  {
   "cell_type": "markdown",
   "metadata": {},
   "source": [
    "Vamos simular uma amostra aleatório da distribuição Gaussiana e fazer um histograma e sobrepor a densidade que acabamos de calcular."
   ]
  },
  {
   "cell_type": "code",
   "execution_count": 78,
   "metadata": {},
   "outputs": [
    {
     "data": {
      "image/png": "[encoded data removed]",
      "text/plain": [
       "<matplotlib.figure.Figure at 0x7ff530b965f8>"
      ]
     },
     "metadata": {},
     "output_type": "display_data"
    }
   ],
   "source": [
    "amostra = my_norm.rvs(10000)\n",
    "ax.hist(amostra, normed=True, histtype='stepfilled', alpha=0.2)\n",
    "ax.legend(loc='best', frameon=False)\n",
    "plt.show()"
   ]
  },
  {
   "cell_type": "markdown",
   "metadata": {},
   "source": [
    "Outro método que também está disponível para todas as distribuições implementadas na biblioteca `scipy.stats` é o método `fit`. Como o nome sugere este método ajusta a distribuição para um vetor de observações. "
   ]
  },
  {
   "cell_type": "code",
   "execution_count": 82,
   "metadata": {},
   "outputs": [
    {
     "name": "stdout",
     "output_type": "stream",
     "text": [
      "(10.482028224058263, 4.5548538593399748)\n",
      "(71.201643797121392, 10.459960255274375, 4.4904597272531337)\n"
     ]
    },
    {
     "data": {
      "text/plain": [
       "(9.8012505819540614, 2.6176037515189652)"
      ]
     },
     "execution_count": 82,
     "metadata": {},
     "output_type": "execute_result"
    }
   ],
   "source": [
    "amostra = my_norm.rvs(100)\n",
    "print(sp.norm.fit(amostra)) # Ajustando a própria Normal\n",
    "print(sp.t.fit(amostra)) # Ajustando a distribuição t\n",
    "print(sp.cauchy.fit(amostra)) # Cauchy ou qq outra que seja adequada."
   ]
  },
  {
   "cell_type": "markdown",
   "metadata": {},
   "source": [
    "Em geral as distribuições de probabilidade implementadas na biblioteca `scipy.stats` são vetorizadas. Assim, se o argumento for um objeto `ndarray` a função será aplicada em cada uma das entradas do `ndarray` e a saída também será um `ndarray`."
   ]
  },
  {
   "cell_type": "code",
   "execution_count": 99,
   "metadata": {},
   "outputs": [
    {
     "data": {
      "text/plain": [
       "array([ 0.00443185,  0.05399097,  0.24197072,  0.39894228,  0.24197072,\n",
       "        0.05399097,  0.00443185])"
      ]
     },
     "execution_count": 99,
     "metadata": {},
     "output_type": "execute_result"
    }
   ],
   "source": [
    "a = np.array([-3,-2,-1,0,1,2,3])\n",
    "sp.norm.pdf(a, loc = 0, scale = 1)"
   ]
  },
  {
   "cell_type": "markdown",
   "metadata": {},
   "source": [
    "Assim termino esta rápida introdução de como e onde as funções de probabilidades estão implementadas em python. Na sequência vou introduzir as principais idéias de otimização de funções em python.\n",
    "\n",
    "## Otimização\n",
    "\n",
    "Otimização de funções tem um papel central em inferência estatística. Uma vez que o estimador de maxima verossimilhança é o supremo da função de log-verossimilhança encontrar este ponto é crucial para o processo de inferência. O python através do modulo `scipy.optimization` fornece vários algoritmos para numericamente encontrar o mínimo/máximo de uma função pré-especificada. Este modulo também fornece algoritmos para solução de sistemas de equações não-lineares e minimização via métodos dos mínimos quadrados. Vamos ver alguns exemplos de como usar esta poderosa biblioteca. Como exemplo vou implementar a log-verossimilhança de um modelo de regressão linear simples."
   ]
  },
  {
   "cell_type": "code",
   "execution_count": 219,
   "metadata": {},
   "outputs": [
    {
     "name": "stdout",
     "output_type": "stream",
     "text": [
      "[ 0.955178    3.0605878   3.06253339  3.7901356   5.16958236  5.88972862\n",
      "  6.76677787  6.79734997  8.45627646  9.22860461]\n"
     ]
    }
   ],
   "source": [
    "x = np.array(range(0,10))\n",
    "par = np.array([2,0.8,0.5])\n",
    "my_norm = sp.norm(loc = 0, scale = par[2])\n",
    "e = my_norm.rvs(len(x))\n",
    "mu = par[0] + par[1]*x\n",
    "y = mu + e\n",
    "print(y)"
   ]
  },
  {
   "cell_type": "code",
   "execution_count": 233,
   "metadata": {},
   "outputs": [
    {
     "name": "stdout",
     "output_type": "stream",
     "text": [
      "[ 1.48437886  0.85184602 -0.96076513]\n",
      "4.58212128641\n",
      "[ 1.4843624   0.85184735 -0.96072641]\n",
      "4.582121267138361\n",
      "[ 1.48436238  0.85184735 -0.96072644]\n",
      "4.582121267138369\n",
      "[ 1.48462153  0.85180644 -0.96136877]\n",
      "4.5821260605\n",
      "[ -2.98023224e-07   5.96046448e-07  -5.96046448e-07]\n",
      "[[  5.12949827e-02  -7.98299503e-03   5.50750805e-04]\n",
      " [ -7.98299503e-03   1.78946275e-03  -9.84144963e-05]\n",
      " [  5.50750805e-04  -9.84144963e-05   5.10698521e-02]]\n"
     ]
    }
   ],
   "source": [
    "from scipy.optimize import minimize\n",
    "from math import exp, log\n",
    "\n",
    "def linreg(par, y, x):\n",
    "    mu = par[0] + par[1]*x\n",
    "    output = -sp.norm.logpdf(y, loc = mu, scale = exp(par[2])).sum()\n",
    "    #print(output)\n",
    "    return(output)\n",
    "\n",
    "# Avaliando a log-lik no ponto\n",
    "linreg(par = np.array([2.1788,0.7743, log(0.3817)]), y = y, x = x) \n",
    "\n",
    "# Valores iniciais\n",
    "par = np.array([2,0.8, log(2)])\n",
    "\n",
    "# Nelder-Mead\n",
    "res1 = minimize(linreg, par, method='nelder-mead', args = (y,x))\n",
    "print(res.x)\n",
    "print(res.fun)\n",
    "\n",
    "# Gradiente Conjugado\n",
    "res2 = minimize(linreg, par, method = 'CG', args = (y,x))\n",
    "print(res2.x)\n",
    "print(res2.fun)\n",
    "\n",
    "# BFGS\n",
    "res3 = minimize(linreg, par, method = 'BFGS',  args = (y,x))\n",
    "print(res3.x)\n",
    "print(res3.fun)\n",
    "\n",
    "# Powell\n",
    "res4 = minimize(linreg, par, method = 'Powell', args = (y,x))\n",
    "print(res4.x)\n",
    "print(res4.fun)\n",
    "\n",
    "# Escore\n",
    "print(res3.jac)\n",
    "\n",
    "# Temos o inverso do hessiano\n",
    "print(res3.hess_inv)\n",
    "\n"
   ]
  }
 ],
 "metadata": {
  "kernelspec": {
   "display_name": "Python 3",
   "language": "python",
   "name": "python3"
  },
  "language_info": {
   "codemirror_mode": {
    "name": "ipython",
    "version": 3
   },
   "file_extension": ".py",
   "mimetype": "text/x-python",
   "name": "python",
   "nbconvert_exporter": "python",
   "pygments_lexer": "ipython3",
   "version": "3.6.9"
  }
 },
 "nbformat": 4,
 "nbformat_minor": 2
}
