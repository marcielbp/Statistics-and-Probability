{
 "cells": [
  {
   "cell_type": "markdown",
   "metadata": {},
   "source": [
    "# Prática 01 - Visualização Numérica de dados em Python usando Numpy e Scipy"
   ]
  },
  {
   "cell_type": "code",
   "execution_count": 1,
   "metadata": {},
   "outputs": [],
   "source": [
    "import numpy as np"
   ]
  },
  {
   "cell_type": "code",
   "execution_count": 4,
   "metadata": {},
   "outputs": [
    {
     "name": "stdout",
     "output_type": "stream",
     "text": [
      "Média: 5.0\n"
     ]
    }
   ],
   "source": [
    "x = [1, 2, 3, 4, 5, 6, 7, 8, 9]\n",
    "media = float(sum(x))/ float(len(x))\n",
    "print(\"Média:\", media)"
   ]
  },
  {
   "cell_type": "markdown",
   "metadata": {},
   "source": [
    "## Trabalhando com funções em Python"
   ]
  },
  {
   "cell_type": "code",
   "execution_count": 7,
   "metadata": {},
   "outputs": [
    {
     "name": "stdout",
     "output_type": "stream",
     "text": [
      "Média: 5.0\n"
     ]
    }
   ],
   "source": [
    "def myMedia(vetor = [0]):\n",
    "\tmediaCalc = float(sum(vetor))/ float(len(vetor))\n",
    "\treturn mediaCalc\n",
    "print(\"Média:\", myMedia(x))"
   ]
  },
  {
   "cell_type": "markdown",
   "metadata": {},
   "source": [
    "### Exercício 1\n",
    "Crie uma função myVariancia que retorne a variância de um vetor de dados $X$ segundo a expressão:\n",
    "\n",
    "$$\n",
    "VAR(X) = \\frac{1}{n} \\sum_1^n {{x_i}^2 - \\texttt{myMedia}(X)^2}\n",
    "$$"
   ]
  },
  {
   "cell_type": "code",
   "execution_count": null,
   "metadata": {},
   "outputs": [],
   "source": [
    "def myVariancia(vetor = [0]):\n",
    "\tvarCalc = \n",
    "\treturn varCalc\n",
    "print(\"Média:\", myVariancia(x))"
   ]
  }
 ],
 "metadata": {
  "kernelspec": {
   "display_name": "Python 3",
   "language": "python",
   "name": "python3"
  },
  "language_info": {
   "codemirror_mode": {
    "name": "ipython",
    "version": 3
   },
   "file_extension": ".py",
   "mimetype": "text/x-python",
   "name": "python",
   "nbconvert_exporter": "python",
   "pygments_lexer": "ipython3",
   "version": "3.7.4"
  }
 },
 "nbformat": 4,
 "nbformat_minor": 2
}
