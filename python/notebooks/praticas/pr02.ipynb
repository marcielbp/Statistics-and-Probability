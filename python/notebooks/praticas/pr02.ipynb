{
 "cells": [
  {
   "cell_type": "markdown",
   "metadata": {},
   "source": [
    "# Prática 02 - Métodos de visualização gráfica em Python usando Matplotlib e Plotly"
   ]
  },
  {
   "cell_type": "markdown",
   "metadata": {},
   "source": [
    "## Recapitulando\n",
    "\n",
    "Na aula anterior, trabalhamos com métodos numéricos de descrição de dados e a descrição gráfica utilizando histograma. Nesta aula falaremos de diversos outros métodos de descrição gráfica."
   ]
  },
  {
   "cell_type": "markdown",
   "metadata": {},
   "source": [
    "As bibliotecas a seguir podem ser instaladas, após a ativação do ambiente, utilizando o comando `pip install`, no terminal linux."
   ]
  },
  {
   "cell_type": "code",
   "execution_count": null,
   "metadata": {},
   "outputs": [],
   "source": [
    "import matplotlib.pyplot as plt\n",
    "import altair as alt\n",
    "import numpy as np\n",
    "import random\n",
    "import pandas as pd"
   ]
  },
  {
   "cell_type": "markdown",
   "metadata": {},
   "source": [
    "## Box Plot\n",
    "\n",
    "BoxPlot é um gráfico útil para vizualizar informações de mediana, quartis e outliers, além da possibilidade de comparar amostras em termos de sua localização e dispersão estatística. Podemos construir BoxPlots utilizando a biblioteca [`matplotlib`](https://matplotlib.org/gallery/pyplots/boxplot_demo_pyplot.html#sphx-glr-gallery-pyplots-boxplot-demo-pyplot-py):"
   ]
  },
  {
   "cell_type": "code",
   "execution_count": null,
   "metadata": {},
   "outputs": [],
   "source": [
    "# Random test data\n",
    "np.random.seed(123)\n",
    "all_data = [np.random.normal(0, std, 1000) for std in range(1, 4)]\n",
    "\n",
    "fig, axes = plt.subplots(nrows=1, ncols=2, figsize=(12, 6))\n",
    "\n",
    "# rectangular box plot\n",
    "bplot1 = axes[0].boxplot(all_data,\n",
    "                         vert=True,   # vertical box aligmnent\n",
    "                         patch_artist=True)   # fill with color\n",
    "\n",
    "# notch shape box plot\n",
    "bplot2 = axes[1].boxplot(all_data,\n",
    "                         notch=True,  # notch shape\n",
    "                         vert=True,   # vertical box aligmnent\n",
    "                         patch_artist=True)   # fill with color\n",
    "\n",
    "# fill with colors\n",
    "colors = ['pink', 'lightblue', 'lightgreen']\n",
    "for bplot in (bplot1, bplot2):\n",
    "    for patch, color in zip(bplot['boxes'], colors):\n",
    "        patch.set_facecolor(color)\n",
    "\n",
    "# adding horizontal grid lines\n",
    "for ax in axes:\n",
    "    ax.yaxis.grid(True)\n",
    "    ax.set_xticks([y+1 for y in range(len(all_data))], )\n",
    "    ax.set_xlabel('xlabel')\n",
    "    ax.set_ylabel('ylabel')\n",
    "\n",
    "# add x-tick labels\n",
    "plt.setp(axes, xticks=[y+1 for y in range(len(all_data))],\n",
    "         xticklabels=['x1', 'x2', 'x3'])\n",
    "\n",
    "plt.show()"
   ]
  },
  {
   "cell_type": "markdown",
   "metadata": {},
   "source": [
    "Os dados para construção do boxPlot foram gerados aleatoriamente. Observe a diferença entre os dados. Agora, iremos exibir o boxPlot relativo aos dados da [Questão 01/ Lista 01](https://marcielbp.github.io/Statistics-and-Probability/listas/lista-01-est-descritiva/) em um boxPlot"
   ]
  },
  {
   "cell_type": "code",
   "execution_count": null,
   "metadata": {},
   "outputs": [],
   "source": [
    "data = [[9.2,10.8,10.6,11.1,12.1,9.6,11.2,8.4,12.9,12.1,14.4,11.1,11.1,9.7,8.4,12.3,10.7,12.9,9.1,12.8],\n",
    "[12.5,18.5,21.3,14.3,18.5,19.0,10.8,23.1,17.4,10.7,14.3,16.3,18.0,7.1,12.8,14.7,11.3,8.2,13.8],\n",
    "[21.3,28.7,15.8,24.0,13.7,18.1,12.6,14.6,6.1,19.8,22.3,15.7,16.3,18.2,15.7,6.6,9.3,1.3,19.0],\n",
    "[13.7,8.6,14.9,10.2,14.0,10.5,15.0,5.2,10.0,11.7,18.7,9.3,7.9,6.5,11.5,12.0,8.3,8.3,9.8,4.7]]\n",
    "    \n",
    "fig, ax = plt.subplots(nrows=1, ncols=1, figsize=(8, 6))\n",
    "red_square = dict(markerfacecolor='r', marker='s')\n",
    "ax.boxplot(data, [1,2,3,4],vert=True,flierprops=red_square)\n",
    "\n",
    "ax.set_title('Box Plot da altura de Espécie de árvore', fontsize=12)\n",
    "ax.yaxis.grid(True)\n",
    "plt.setp(ax,xticklabels=['Área A', 'Área B', 'Área C', 'Área D'])\n",
    "fig.subplots_adjust(hspace=0.4)\n",
    "plt.show()"
   ]
  },
  {
   "cell_type": "markdown",
   "metadata": {},
   "source": [
    "### Exercício 1\n",
    "\n",
    "Um exame para uma faculdade tem 80 questões, sendo 40 de português e 40 de matemática. Para os 20\n",
    "melhores classificados, apresentamos o número de acertos em cada disciplina.\n",
    "\n",
    "> Português: 35, 35, 34, 32, 31, 30, 26, 26, 24, 23, 23, 12, 11, 20, 17, 12, 14, 20, 8, 10\n",
    "\n",
    "> Matemática: 31, 29, 27, 28, 28, 26, 30, 28, 25, 23, 21, 32, 31, 20, 21, 25, 20, 13, 23, 20\n",
    "\n",
    "Construa um gráfico de caixa (box plot) para cada grupo (em um mesmo gráfico para comparação). Na legenda deve constar o nome da disciplina. Indique também a posição da média amostral usando o recurso `plt.plot([x1,x2],[y1, y2], 'k-', lw=2)`. Como descobrir os valores apropriados de `[x1,x2],[y1, y2]`?"
   ]
  },
  {
   "cell_type": "code",
   "execution_count": null,
   "metadata": {},
   "outputs": [],
   "source": [
    "# Respota Exercício 1"
   ]
  },
  {
   "cell_type": "markdown",
   "metadata": {},
   "source": [
    "## BoxPlot interativo e espalhamento da amostra\n",
    "\n",
    "A biblioteca [Plotly](https://plot.ly/python/reference/#box) permite a criação de gráficos interativos em HTML. A partir dela, vamos criar "
   ]
  },
  {
   "cell_type": "code",
   "execution_count": null,
   "metadata": {},
   "outputs": [],
   "source": [
    "import plotly.graph_objects as go\n",
    "\n",
    "fig = go.Figure()\n",
    "names = ['Área A','Área B','Área C','Área D']\n",
    "for i in range(0,4):\n",
    "    fig.add_trace(go.Box(y=data[i],name=names[i]))\n",
    "fig.show()"
   ]
  },
  {
   "cell_type": "markdown",
   "metadata": {},
   "source": [
    "Observe que a exibição de outliers utilizando a biblioteca matplotlib foi diferente dos exibidos pela Plotly, para a mesma amostra. Você saberia dizer o porquê?"
   ]
  },
  {
   "cell_type": "markdown",
   "metadata": {},
   "source": [
    "Podemos efetuar algumas mudanças no layout dos gráficos, a começar pela exibição dos pontos da amostra. Observe que a função `jitter` permite que a amostra seja exibida com um certo grau de aleatoriedade horizontal, cujo objetivo é apenas dar a ideia de variabilidade. Além disso, podemos definir cores customizadas para cada gráfico:"
   ]
  },
  {
   "cell_type": "code",
   "execution_count": null,
   "metadata": {},
   "outputs": [],
   "source": [
    "fig = go.Figure()\n",
    "names = ['Área A','Área B','Área C','Área D']\n",
    "colorNames = ['red','blue','orange','purple']\n",
    "for i in range(0,4):\n",
    "    fig.add_trace(go.Box(y=data[i],name=names[i],marker_color =colorNames[i]))\n",
    "    fig.update_traces(boxpoints='all', jitter=0.1)\n",
    "fig.update_layout(\n",
    "    title='Box Plot da altura de Espécie de árvore')\n",
    "fig.show()"
   ]
  },
  {
   "cell_type": "markdown",
   "metadata": {},
   "source": [
    "Verifique também o uso do [Gráfico de Violino](https://plot.ly/python/violin/)."
   ]
  },
  {
   "cell_type": "markdown",
   "metadata": {},
   "source": [
    "## Gráficos de Pizza\n",
    "\n",
    "Graficos de pizza são eficazes para a exibição da proporção relatva de variáveis qualitativas **que se complementam**, ou seja, juntas representam algum universo. Gráficos de pizza não devem ser utilizados para representar muitas classes, mas são gráficos úteis para mostrar proporções de variáveis qualitativas, desde que suas proporções não sejam muito semelhantes. Utilize o gráfico de pizza para até 4 ou, no máximo, 5 classes."
   ]
  },
  {
   "cell_type": "code",
   "execution_count": null,
   "metadata": {},
   "outputs": [],
   "source": [
    "labels = ['Oxigênio','Hidrogênio','Dioxido de Carbono','Nitrogênio']\n",
    "values = [4500, 2500, 1053, 500]"
   ]
  },
  {
   "cell_type": "markdown",
   "metadata": {},
   "source": [
    "Veja o exemplo de construção do gráfico de pizza usando a biblioteca matplotlib:"
   ]
  },
  {
   "cell_type": "code",
   "execution_count": null,
   "metadata": {},
   "outputs": [],
   "source": [
    "import matplotlib.pyplot as plt\n",
    "\n",
    "explode = (0.05, 0, 0, 0)  # only \"explode\" the 2nd slice (i.e. 'Hogs')\n",
    "\n",
    "fig1, ax1 = plt.subplots()\n",
    "ax1.pie(values, explode=explode, labels=labels, autopct='%1.1f%%',\n",
    "        shadow=True, startangle=90)\n",
    "ax1.axis('equal')  # Equal aspect ratio ensures that pie is drawn as a circle.\n",
    "\n",
    "plt.show()"
   ]
  },
  {
   "cell_type": "markdown",
   "metadata": {},
   "source": [
    "Por sua vez, a biblioteca Plotly permite a visualização de forma interativa:"
   ]
  },
  {
   "cell_type": "code",
   "execution_count": null,
   "metadata": {},
   "outputs": [],
   "source": [
    "import plotly.graph_objects as go\n",
    "\n",
    "fig = go.Figure(data=[go.Pie(labels=labels, values=values)])\n",
    "fig.show()"
   ]
  },
  {
   "cell_type": "markdown",
   "metadata": {},
   "source": [
    "Experimente usar o atributo `hole` na construção do [gráfico de pizza usando plotly](https://plot.ly/python/pie-charts/)."
   ]
  },
  {
   "cell_type": "markdown",
   "metadata": {},
   "source": [
    "## Gráfico de Barras\n",
    "\n",
    "O Gráfico de barras é útil para exigir quantidade ou proporção de variáveis qualitativas de maneira sequencial ou não. Por exemplo, vamos supor que desejamos construir um gráfico de evolução populacional nas regiões do Brasil para algum período de tempo. Observe os dados coletados do [Censo 2010 - IBGE](https://censo2010.ibge.gov.br/sinopse/index.php?dados=4&uf=00). Vamos construir um gráfico de barras da evolução populacional:"
   ]
  },
  {
   "cell_type": "code",
   "execution_count": null,
   "metadata": {},
   "outputs": [],
   "source": [
    "regioes = ['Norte', 'Nordeste', 'Sudeste', 'Sul','Centro-Oeste']\n",
    "populacao = [[10257266,42470225,62660700,22117026,9412242], #População em 1991\n",
    "             [12893561,47693253,72297351,25089783,11616745], #População em 2000\n",
    "             [15864454,53081950,80364410,27386891,14058094]] #População em 2010"
   ]
  },
  {
   "cell_type": "code",
   "execution_count": null,
   "metadata": {},
   "outputs": [],
   "source": [
    "populacao[0]"
   ]
  },
  {
   "cell_type": "code",
   "execution_count": null,
   "metadata": {},
   "outputs": [],
   "source": [
    "fig, ax = plt.subplots(figsize=(14, 6))\n",
    "x = np.arange(len(regioes))  # the label locations\n",
    "width = 0.2  # the width of the bars\n",
    "rects0 = ax.bar(x - width, populacao[0], width, label='1991')\n",
    "rects1 = ax.bar(x, populacao[1], width, label='2000')\n",
    "rects2 = ax.bar(x + width, populacao[2], width, label='2010')\n",
    "\n",
    "# Add some text for labels, title and custom x-axis tick labels, etc.\n",
    "ax.set_ylabel('População')\n",
    "ax.set_title('População por Região')\n",
    "ax.set_xticks(x)\n",
    "ax.set_xticklabels(regioes)\n",
    "ax.legend()"
   ]
  },
  {
   "cell_type": "markdown",
   "metadata": {},
   "source": [
    "Observe que a população está em notação científica. Vamos realizar a formatação como segue:"
   ]
  },
  {
   "cell_type": "code",
   "execution_count": null,
   "metadata": {},
   "outputs": [],
   "source": [
    "import matplotlib.ticker as tick\n",
    "\n",
    "def millions(x, pos):\n",
    "    'The two args are the value and tick position'\n",
    "    return '%1.1fM' % (x*1e-6)\n",
    "    \n",
    "fig, ax = plt.subplots(figsize=(14, 6))\n",
    "ax.yaxis.set_major_formatter(tick.FuncFormatter(millions))\n",
    "x = np.arange(len(regioes))  # the label locations\n",
    "width = 0.2  # the width of the bars\n",
    "rects0 = ax.bar(x - width, populacao[0], width, label='1991')\n",
    "rects1 = ax.bar(x, populacao[1], width, label='2000')\n",
    "rects2 = ax.bar(x + width, populacao[2], width, label='2010')\n",
    "\n",
    "# Add some text for labels, title and custom x-axis tick labels, etc.\n",
    "ax.set_ylabel('População')\n",
    "ax.set_title('População por Região')\n",
    "ax.set_xticks(x)\n",
    "ax.set_xticklabels(regioes)\n",
    "ax.legend()"
   ]
  },
  {
   "cell_type": "markdown",
   "metadata": {},
   "source": [
    "Observe a utilização da biblioteca [Plotly](https://plot.ly/python/bar-charts/) para a construção de gráficos de barra:"
   ]
  },
  {
   "cell_type": "code",
   "execution_count": null,
   "metadata": {},
   "outputs": [],
   "source": [
    "import plotly.graph_objects as go\n",
    "\n",
    "regioes = ['Norte', 'Nordeste', 'Sudeste', 'Sul','Centro-Oeste']\n",
    "populacao = [[10257266,42470225,62660700,22117026,9412242], #População em 1991\n",
    "             [12893561,47693253,72297351,25089783,11616745], #População em 2000\n",
    "             [15864454,53081950,80364410,27386891,14058094]] #População em 2010\n",
    "\n",
    "\n",
    "fig = go.Figure()\n",
    "fig.add_trace(go.Bar(\n",
    "    x=regioes,\n",
    "    y=populacao[0],\n",
    "    name='1991',\n",
    "    marker_color='crimson'\n",
    "))\n",
    "fig.add_trace(go.Bar(\n",
    "    x=regioes,\n",
    "    y=populacao[1],\n",
    "    name='2000',\n",
    "    marker_color='orange'\n",
    "))\n",
    "\n",
    "fig.add_trace(go.Bar(\n",
    "    x=regioes,\n",
    "    y=populacao[2],\n",
    "    name='2010',\n",
    "    marker_color='purple'\n",
    "))\n",
    "\n",
    "# Here we modify the tickangle of the xaxis, resulting in rotated labels.\n",
    "fig.update_layout(barmode='group', xaxis_tickangle=-45)\n",
    "fig.show()"
   ]
  },
  {
   "cell_type": "markdown",
   "metadata": {},
   "source": [
    "É comum exibimos os dados de forma empilhada, como a seguir:"
   ]
  },
  {
   "cell_type": "code",
   "execution_count": null,
   "metadata": {},
   "outputs": [],
   "source": [
    "import plotly.graph_objects as go\n",
    "\n",
    "anos=['1991','2000','2010']\n",
    "regioes = ['Norte', 'Nordeste', 'Sudeste', 'Sul','Centro-Oeste']\n",
    "populacao = [[10257266,42470225,62660700,22117026,9412242], #População em 1991\n",
    "             [12893561,47693253,72297351,25089783,11616745], #População em 2000\n",
    "             [15864454,53081950,80364410,27386891,14058094]] #População em 2010\n",
    "pop2 = np.transpose(populacao)\n",
    "\n",
    "\n",
    "animals=['giraffes', 'orangutans', 'monkeys']\n",
    "\n",
    "fig = go.Figure(data=[\n",
    "    go.Bar(name=regioes[2], x=anos, y=pop2[2]),\n",
    "    go.Bar(name=regioes[1], x=anos, y=pop2[1]),\n",
    "    go.Bar(name=regioes[3], x=anos, y=pop2[3]),\n",
    "    go.Bar(name=regioes[4], x=anos, y=pop2[4]),\n",
    "    go.Bar(name=regioes[0], x=anos, y=pop2[0]),\n",
    "])\n",
    "# Change the bar mode\n",
    "fig.update_layout(barmode='stack')\n",
    "fig.show()"
   ]
  },
  {
   "cell_type": "markdown",
   "metadata": {},
   "source": [
    "Você consegue dizer porque o vetor não segue a ordem `[0,1,2,3,4]`?"
   ]
  },
  {
   "cell_type": "markdown",
   "metadata": {},
   "source": [
    "[Diagrama de Categorias paralelas](https://plot.ly/python/parallel-categories-diagram/)"
   ]
  },
  {
   "cell_type": "code",
   "execution_count": null,
   "metadata": {},
   "outputs": [],
   "source": [
    "import plotly.graph_objects as go\n",
    "\n",
    "fig = go.Figure(go.Parcats(\n",
    "    dimensions=[\n",
    "        {'label': 'Hair',\n",
    "         'values': ['Black', 'Brown', 'Brown', 'Brown', 'Red']},\n",
    "        {'label': 'Eye',\n",
    "         'values': ['Brown', 'Brown', 'Brown', 'Blue', 'Blue']},\n",
    "        {'label': 'Sex',\n",
    "         'values': ['Female', 'Male', 'Female', 'Male', 'Male']}],\n",
    "    counts=[6, 10, 40, 23, 7]\n",
    "))\n",
    "\n",
    "\n",
    "fig.show()"
   ]
  },
  {
   "cell_type": "code",
   "execution_count": null,
   "metadata": {},
   "outputs": [],
   "source": [
    "\n",
    "## Gráfico de Radar\n",
    "import plotly.graph_objects as go\n",
    "\n",
    "fig = go.Figure(data=go.Scatterpolar(\n",
    "  r=[2, 4, 2, 2, 3, 2],\n",
    "  theta=['processing cost','mechanical properties','chemical stability', 'thermal stability',\n",
    "           'device integration','processing cost'],\n",
    "  fill='toself'\n",
    "))\n",
    "\n",
    "fig.update_layout(\n",
    "  polar=dict(\n",
    "    radialaxis=dict(\n",
    "      visible=True\n",
    "    ),\n",
    "  ),\n",
    "  showlegend=False\n",
    ")\n",
    "\n",
    "fig.show()"
   ]
  },
  {
   "cell_type": "markdown",
   "metadata": {},
   "source": []
  },
  {
   "cell_type": "code",
   "execution_count": null,
   "metadata": {},
   "outputs": [],
   "source": []
  }
 ],
 "metadata": {
  "kernelspec": {
   "display_name": "Python 3",
   "language": "python",
   "name": "python3"
  },
  "language_info": {
   "codemirror_mode": {
    "name": "ipython",
    "version": 3
   },
   "file_extension": ".py",
   "mimetype": "text/x-python",
   "name": "python",
   "nbconvert_exporter": "python",
   "pygments_lexer": "ipython3",
   "version": "3.6.9"
  }
 },
 "nbformat": 4,
 "nbformat_minor": 2
}
