{
 "cells": [
  {
   "cell_type": "markdown",
   "metadata": {},
   "source": [
    "# Prática 01 - Visualização Numérica de dados em Python usando Numpy e Visualização gráfica com Matplotlib\n",
    "\n",
    "Inicialmente, não se esqueça de ativar o ambiente que contém as bibliotecas e o Jupyter:\n",
    "\n",
    "`aluno@dti:~$ conda info --env`\n",
    "\n",
    "Ao listar os ambientes, selecione o ambiente apropriado **probS**:\n",
    "\n",
    "````bash\n",
    "aluno@dti:~$ source activate probS\n",
    "(probS) aluno@dti:~$ conda info --envs\n",
    "````\n",
    "\n",
    "## Parte 1 - visualização numérica\n",
    "\n",
    "Veja que o ambiente **probS** foi ativado.\n",
    "\n",
    "A biblioteca [Numpy](https://numpy.org/doc/1.18/) dispõe de poderosas funções para manipulação numérica e estatística. Ao longo do curso, iremos utilizar exaustivamente suas funcionalidades. As demais bibliotecas podem ser instaladas, após a ativação do ambiente, utilizando o comando `pip install`, no terminal linux. Ex.: `pip install "
   ]
  },
  {
   "cell_type": "code",
   "execution_count": 2,
   "metadata": {},
   "outputs": [],
   "source": [
    "import numpy as np"
   ]
  },
  {
   "cell_type": "markdown",
   "metadata": {},
   "source": [
    "Caso a biblioteca não esteja presente, verifique se o ambiente **probS** está ativo. Caso esteja e o erro persista, digite, no terminal `pip install numpy`.\n",
    "\n",
    "Iremos calcular a média de uma amostra segundo a formula:\n",
    "\n",
    "$$\n",
    "\\overline{x} = \\frac{1}{n} \\sum_1^n {x_i}\n",
    "$$"
   ]
  },
  {
   "cell_type": "code",
   "execution_count": 3,
   "metadata": {},
   "outputs": [
    {
     "name": "stdout",
     "output_type": "stream",
     "text": [
      "Média: 5.0\n"
     ]
    }
   ],
   "source": [
    "x = [1, 2, 3, 4, 5, 6, 7, 8, 9]\n",
    "media = float(sum(x))/ float(len(x))\n",
    "print(\"Média:\", media)"
   ]
  },
  {
   "cell_type": "markdown",
   "metadata": {},
   "source": [
    "A biblioteca numpy possui método de cálculo de média amostral. Para tanto chamamos o método na forma `np.mean(x)`:"
   ]
  },
  {
   "cell_type": "code",
   "execution_count": 4,
   "metadata": {},
   "outputs": [
    {
     "name": "stdout",
     "output_type": "stream",
     "text": [
      "Média Amostral: 5.0\n"
     ]
    }
   ],
   "source": [
    "media = np.mean(x)\n",
    "print(\"Média Amostral:\",media)"
   ]
  },
  {
   "cell_type": "markdown",
   "metadata": {},
   "source": [
    "## Trabalhando com funções em Python\n",
    "\n",
    "Em python podemos transformar certas rotinas recorrentes em funções, veja o exemplo a seguir para cálculo da média:"
   ]
  },
  {
   "cell_type": "code",
   "execution_count": 5,
   "metadata": {},
   "outputs": [
    {
     "name": "stdout",
     "output_type": "stream",
     "text": [
      "Média: 5.0\n"
     ]
    }
   ],
   "source": [
    "def myMedia(vetor = [0]):\n",
    "\tmediaCalc = float(sum(vetor))/ float(len(vetor))\n",
    "\treturn mediaCalc\n",
    "\n",
    "# aqui o print já está fora da funçao devido à identação\n",
    "print(\"Média:\", myMedia(x))"
   ]
  },
  {
   "cell_type": "markdown",
   "metadata": {},
   "source": [
    "### Exercício 1\n",
    "Crie, no espaço de código a seguir, uma função myVariancia que retorne a variância de um vetor de dados $X$ segundo a expressão:\n",
    "\n",
    "$$\n",
    "VAR(X) = \\frac{1}{n} \\sum_1^n {{x_i}^2 - \\texttt{myMedia}(X)^2}\n",
    "$$"
   ]
  },
  {
   "cell_type": "code",
   "execution_count": 27,
   "metadata": {},
   "outputs": [
    {
     "name": "stdout",
     "output_type": "stream",
     "text": [
      "Variância: 0\n"
     ]
    }
   ],
   "source": [
    "def myVariancia(vetor = [0]):\n",
    "\tvarCalc = 0\n",
    "\treturn varCalc\n",
    "print(\"Variância:\", myVariancia(x))"
   ]
  },
  {
   "cell_type": "markdown",
   "metadata": {},
   "source": [
    "Compare sua função com o método de cálculo de variância `np.var`"
   ]
  },
  {
   "cell_type": "code",
   "execution_count": 29,
   "metadata": {},
   "outputs": [
    {
     "name": "stdout",
     "output_type": "stream",
     "text": [
      "Minha Variância: 0\n",
      "Variância Numpy: 18.0875\n"
     ]
    }
   ],
   "source": [
    "x = [1, 3, 5, 3, 2, 0, 1, 2, 6, 3, 4, 2, 1, 4, 6, 11, 9, 10, 18, 4]\n",
    "print(\"Minha Variância:\",myVariancia(x))\n",
    "print(\"Variância Numpy:\",np.var(x))"
   ]
  },
  {
   "cell_type": "markdown",
   "metadata": {},
   "source": [
    "## Quartis e Percentis\n",
    "\n",
    "Para determinação de quartis podemos utilizar o método `np.quantile`. Os parâmetros são o veto $x$ contendo a amostra (não há necessidade de ordenar) e os intervalos para cálculo do quartil desejado. Usamos o vetor `[0.25,0.5,0.75]` para referenciar os quartis $q_1$ (25%), $q_2$ (mediana, 50%) e $q_3$ (75%)."
   ]
  },
  {
   "cell_type": "code",
   "execution_count": 21,
   "metadata": {},
   "outputs": [
    {
     "name": "stdout",
     "output_type": "stream",
     "text": [
      "Amostra ordenada: [ 0  1  1  1  2  2  2  3  3  3  4  4  4  5  6  6  9 10 11 18]\n",
      "q1 = 2.0 \tq2 = 3.5 \tq3 = 6.0\n"
     ]
    }
   ],
   "source": [
    "x = [1, 3, 5, 3, 2, 0, 1, 2, 6, 3, 4, 2, 1, 4, 6, 11, 9, 10, 18, 4]\n",
    "print(\"Amostra ordenada:\",np.sort(x))\n",
    "qNumpy = np.quantile(x,[0.25,0.5,0.75])\n",
    "print(\"q1 =\",qNumpy[0],\"\\tq2 =\",qNumpy[1],\"\\tq3 =\",qNumpy[2] )"
   ]
  },
  {
   "cell_type": "markdown",
   "metadata": {},
   "source": [
    "Crie uma função no espaço de código a seguir para cálculo do quartil utilizando a expressão: \n",
    "$$\n",
    "p = k \\times \\left(\\frac{n+1}{4}\\right) \\rightarrow i + f\n",
    "$$\n",
    "$i$: parte inteira e $f$: parte fracionária; $k$ é o número do quartil desejado (1, 2 ou 3)\n",
    "\n",
    "$$\n",
    "q_k = x_i + f\\times(x_{i+1} - x_{i})\n",
    "$$"
   ]
  },
  {
   "cell_type": "code",
   "execution_count": 13,
   "metadata": {},
   "outputs": [],
   "source": [
    "def myQuartil(arrayX = [0]):\n",
    "\treturn [0.0, 0.0, 0.0]"
   ]
  },
  {
   "cell_type": "markdown",
   "metadata": {},
   "source": [
    "Compare sua função de cálculo de quartil com o método `np.quantile`. Há alguma diferença?"
   ]
  },
  {
   "cell_type": "code",
   "execution_count": 14,
   "metadata": {},
   "outputs": [
    {
     "name": "stdout",
     "output_type": "stream",
     "text": [
      "Meu quartil: [0.0, 0.0, 0.0]\n",
      "Quartil Numpy: [2.  3.5 6. ]\n"
     ]
    }
   ],
   "source": [
    "x = [1, 3, 5, 3, 2, 0, 1, 2, 6, 3, 4, 2, 1, 4, 6, 11, 9, 10, 18, 4]\n",
    "qNumpy = np.quantile(x,[0.25,0.5,0.75])\n",
    "print(\"Meu quartil:\",myQuartil(x))\n",
    "print(\"Quartil Numpy:\",np.quantile(x,[0.25,0.5,0.75]))"
   ]
  },
  {
   "cell_type": "markdown",
   "metadata": {},
   "source": [
    "### Resumo dos principais métodos de descrição numérica:\n",
    "\n",
    "- Tamanho da amostra: `len(input)`\n",
    "- Média: `np.mean(input)`\n",
    "- Variância: `np.var(input)`\n",
    "- Mediana/ quartis `np.quantile(input,[0.25, 0.5, 0.75])`\n",
    "- Amplitude: `np.amax(input) - np.amin(input)` (alternativamente: `max(x) - min(x)` )"
   ]
  },
  {
   "cell_type": "markdown",
   "metadata": {},
   "source": [
    "## Parte 2: visualização gráfica\n",
    "\n",
    "## Histograma\n",
    "\n",
    "O histograma é um dos principais métodos de exibição gráfica de uma amostra. Com ele, podemos ter noção do comportamento de uma amostra, sua dispersão e, caso haja, o eixo de assimetria. Trata-se de um excelente primeiro método pra traçar hipóteses sobre uma amostra.\n",
    "\n",
    "Podemos construir histogramas utilizando a biblioteca [`matplotlib`](https://matplotlib.org/contents.html):"
   ]
  },
  {
   "cell_type": "code",
   "execution_count": 42,
   "metadata": {},
   "outputs": [],
   "source": [
    "import matplotlib.pyplot as plt"
   ]
  },
  {
   "cell_type": "markdown",
   "metadata": {},
   "source": [
    "Observe o exemplo a seguir para construção de histograma:"
   ]
  },
  {
   "cell_type": "code",
   "execution_count": 43,
   "metadata": {},
   "outputs": [
    {
     "data": {
      "image/png": "[encoded data removed]",
      "text/plain": [
       "<Figure size 576x288 with 2 Axes>"
      ]
     },
     "metadata": {},
     "output_type": "display_data"
    }
   ],
   "source": [
    "np.random.seed(0)\n",
    "\n",
    "mu = 200\n",
    "sigma = 25\n",
    "x = np.random.normal(mu, sigma, size=100)\n",
    "\n",
    "fig, (ax0, ax1) = plt.subplots(ncols=2, figsize=(8, 4))\n",
    "\n",
    "ax0.hist(x, 20, histtype='stepfilled', facecolor='green', alpha=0.8)\n",
    "ax0.set_title('stepfilled')\n",
    "# Create a histogram by providing the bin edges (unequally spaced).\n",
    "bins = [100, 150, 180, 195, 205, 220, 250, 300]\n",
    "ax1.hist(x, bins, histtype='bar', rwidth=0.8, facecolor='blue', alpha=0.8)\n",
    "ax1.set_title('Bins desiguais')\n",
    "\n",
    "fig.tight_layout()\n",
    "plt.show()"
   ]
  },
  {
   "cell_type": "markdown",
   "metadata": {},
   "source": [
    "Veja a sintaxe completa na documentação do [histograma](https://matplotlib.org/api/_as_gen/matplotlib.pyplot.hist.html#matplotlib.pyplot.hist). No código acima foram gerados 100 dados aleatórios utilizando o comando `np.random.normal(mu, sigma, size=100)` (posteriormente entraremos em detalhes sobre a geração de números aleatórios em python). Dessa vez, iremos criar um histograma a partir de um dado inserido manualmente [(Questão 4, Lista 01)](https://marcielbp.github.io/Statistics-and-Probability/listas/lista-01-est-descritiva/)"
   ]
  },
  {
   "cell_type": "code",
   "execution_count": 44,
   "metadata": {},
   "outputs": [
    {
     "data": {
      "image/png": "[encoded data removed]",
      "text/plain": [
       "<Figure size 576x288 with 1 Axes>"
      ]
     },
     "metadata": {},
     "output_type": "display_data"
    }
   ],
   "source": [
    "x = [43, 45, 49, 47, 52, 45, 51, 46, 44, 48, 51, 50, 52, 44, 48, 50, 49, 50, 46, 46, 49, 49, 51, 50]\n",
    "\n",
    "fig, ax = plt.subplots(ncols=1, figsize=(8, 4))\n",
    "numBins = 10\n",
    "ax.hist(x, numBins, histtype='bar', rwidth=.75, facecolor='blue', alpha=0.8)\n",
    "ax.set_title('Histograma da amostra $x$')\n",
    "plt.show()"
   ]
  },
  {
   "cell_type": "markdown",
   "metadata": {},
   "source": [
    "É possível realizar anotações no gráfico usando os comandos `ax.text` e `ax.annotate`:"
   ]
  },
  {
   "cell_type": "code",
   "execution_count": 45,
   "metadata": {
    "scrolled": true
   },
   "outputs": [
    {
     "data": {
      "image/png": "[encoded data removed]",
      "text/plain": [
       "<Figure size 576x288 with 1 Axes>"
      ]
     },
     "metadata": {},
     "output_type": "display_data"
    }
   ],
   "source": [
    "fig, ax = plt.subplots(ncols=1, figsize=(8, 4))\n",
    "numBins = 10\n",
    "ax.hist(x, numBins, histtype='bar', rwidth=.75, facecolor='blue', alpha=0.8)\n",
    "ax.set_title('Histograma da amostra $x$')\n",
    "ax.text(50, 2,'Anotação')\n",
    "plt.show()"
   ]
  },
  {
   "cell_type": "markdown",
   "metadata": {},
   "source": [
    "Para salvar a figura em formato .png use o comando savefig ou, no própro Jupyter, salve a figura gerada."
   ]
  },
  {
   "cell_type": "code",
   "execution_count": 46,
   "metadata": {},
   "outputs": [
    {
     "data": {
      "image/png": "[encoded data removed]",
      "text/plain": [
       "<Figure size 576x288 with 1 Axes>"
      ]
     },
     "metadata": {},
     "output_type": "display_data"
    }
   ],
   "source": [
    "fig, ax = plt.subplots(ncols=1, figsize=(8, 4))\n",
    "numBins = 10\n",
    "ax.hist(x, numBins, histtype='bar', rwidth=.75, facecolor='blue', alpha=0.8)\n",
    "ax.set_title('Histograma da amostra $x$')\n",
    "ax.text(50, 2,'Anotação')\n",
    "\n",
    "plt.savefig('foo.png', transparent=True)"
   ]
  },
  {
   "cell_type": "markdown",
   "metadata": {},
   "source": [
    "Podemos inserir linhas para delimitar regiões ou valores de interesse em um histograma. Observe que o método `ax.get_ylim()[0]` recupera o valor mínimo do eixo  $y$ enquanto `ax.get_ylim()[1]` retorna seu valor máximo. Podemos utilizar esse recurso para inserir um texto na posição correta."
   ]
  },
  {
   "cell_type": "code",
   "execution_count": 82,
   "metadata": {},
   "outputs": [
    {
     "data": {
      "image/png": "[encoded data removed]",
      "text/plain": [
       "<Figure size 576x288 with 1 Axes>"
      ]
     },
     "metadata": {},
     "output_type": "display_data"
    }
   ],
   "source": [
    "media = np.mean(x)\n",
    "\n",
    "fig, ax = plt.subplots(ncols=1, figsize=(8, 4))\n",
    "numBins = 10\n",
    "ax.hist(x, numBins, histtype='bar', rwidth=.75, facecolor='blue', alpha=0.8)\n",
    "ax.get_ylim()[1]\n",
    "ax.set_title('Histograma da amostra $x$')\n",
    "plt.plot([media, media], [ax.get_ylim()[0], ax.get_ylim()[1]], 'k-', lw=2)\n",
    "ax.text(media - 0.25, ax.get_ylim()[1] - 0.25,'Média = {}'.format(media),horizontalalignment='right')\n",
    "plt.show()"
   ]
  },
  {
   "cell_type": "markdown",
   "metadata": {},
   "source": [
    "## Exercicio 1 \n",
    "\n",
    "Com base nos exemplos anteriores, crie um histograma da amostra da questão [(Questão 8, Lista 01)](https://marcielbp.github.io/Statistics-and-Probability/listas/lista-01-est-descritiva/). Crie um **subplot** contendo dois gráficos: um contendo **6 bins** na cor vermelha e o outro contendo **12 bins** na cor laranja. Insira três linhas, uma para cada **quartil**. Salve o gráfico em formato **png**."
   ]
  },
  {
   "cell_type": "code",
   "execution_count": 48,
   "metadata": {},
   "outputs": [],
   "source": [
    "# Resposta exercício 1"
   ]
  }
 ],
 "metadata": {
  "kernelspec": {
   "display_name": "Python 3",
   "language": "python",
   "name": "python3"
  },
  "language_info": {
   "codemirror_mode": {
    "name": "ipython",
    "version": 3
   },
   "file_extension": ".py",
   "mimetype": "text/x-python",
   "name": "python",
   "nbconvert_exporter": "python",
   "pygments_lexer": "ipython3",
   "version": "3.6.9"
  }
 },
 "nbformat": 4,
 "nbformat_minor": 2
}
