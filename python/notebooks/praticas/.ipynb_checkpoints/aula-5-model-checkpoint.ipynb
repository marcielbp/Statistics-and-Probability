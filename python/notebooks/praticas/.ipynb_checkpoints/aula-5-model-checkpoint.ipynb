{
 "cells": [
  {
   "cell_type": "markdown",
   "metadata": {},
   "source": [
    "## Modelos estatísticos\n",
    "\n",
    "O objetivo deste último encontro é mostrar as funcionalidades básicas do python para modelagem estatística. O modulo `statsmodels` implementa uma série de modelos estatísticos entre eles: regressão linear, modelos lineares generalizados (GLM), equações de estimação generalizadas (GEE), regressão robusta, modelos mistos. Além disso, o modulo ainda conta com uma rica classe de modelos para séries temporais e análise de sobrevivência, mais detalhes (http://www.statsmodels.org). \n",
    "\n",
    "Neste encontro eu vou focar apenas nos modelos básicos, ou seja, modelos de regressão e modelos lineares generalizados. Devido ao meu particular interesse em GEE vou mostrar algumas funcionalidades do python para modelar dados longitudinais.\n",
    "\n",
    "Uma parte importante para nos usuários de `R` é que o modelo `statsmodels` incorporou o esquema de `formula` tradicional do `R` para especificar os modelos. Assim, a declaração do preditor linear é muito natural para usuários `R`. Outro aspecto importante é que o `statsmodels` reconhece objetos `pandas data frame` o que facilita muito a entrada e manipulação da base de dados em python. \n",
    "\n",
    "### Regressão linear múltipla\n",
    "\n",
    "Vamos começar importando alguns modulos. "
   ]
  },
  {
   "cell_type": "code",
   "execution_count": 1,
   "metadata": {},
   "outputs": [
    {
     "name": "stderr",
     "output_type": "stream",
     "text": [
      "/home/wagner/anaconda3/lib/python3.6/site-packages/statsmodels/compat/pandas.py:56: FutureWarning: The pandas.core.datetools module is deprecated and will be removed in a future version. Please use the pandas.tseries module instead.\n",
      "  from pandas.core import datetools\n"
     ]
    }
   ],
   "source": [
    "import numpy as np\n",
    "import statsmodels.api as sm\n",
    "import statsmodels.formula.api as smf"
   ]
  },
  {
   "cell_type": "markdown",
   "metadata": {},
   "source": [
    "O modulo `statsmodels` já traz alguns conjuntos de dados para serem usados na documentação. Assim, para começar vou usar um destes conjuntos de dados. \n",
    "\n",
    "#### Carregando a base de dados"
   ]
  },
  {
   "cell_type": "code",
   "execution_count": 2,
   "metadata": {},
   "outputs": [
    {
     "data": {
      "text/html": [
       "<div>\n",
       "<style>\n",
       "    .dataframe thead tr:only-child th {\n",
       "        text-align: right;\n",
       "    }\n",
       "\n",
       "    .dataframe thead th {\n",
       "        text-align: left;\n",
       "    }\n",
       "\n",
       "    .dataframe tbody tr th {\n",
       "        vertical-align: top;\n",
       "    }\n",
       "</style>\n",
       "<table border=\"1\" class=\"dataframe\">\n",
       "  <thead>\n",
       "    <tr style=\"text-align: right;\">\n",
       "      <th></th>\n",
       "      <th>dept</th>\n",
       "      <th>Crime_pers</th>\n",
       "      <th>Crime_prop</th>\n",
       "      <th>Literacy</th>\n",
       "      <th>Donations</th>\n",
       "      <th>Infants</th>\n",
       "      <th>Suicides</th>\n",
       "      <th>Wealth</th>\n",
       "      <th>Commerce</th>\n",
       "      <th>Clergy</th>\n",
       "      <th>Crime_parents</th>\n",
       "      <th>Infanticide</th>\n",
       "      <th>Donation_clergy</th>\n",
       "      <th>Lottery</th>\n",
       "      <th>Desertion</th>\n",
       "      <th>Instruction</th>\n",
       "      <th>Prostitutes</th>\n",
       "      <th>Distance</th>\n",
       "      <th>Area</th>\n",
       "      <th>Pop1831</th>\n",
       "    </tr>\n",
       "  </thead>\n",
       "  <tbody>\n",
       "    <tr>\n",
       "      <th>count</th>\n",
       "      <td>86.000000</td>\n",
       "      <td>86.000000</td>\n",
       "      <td>86.000000</td>\n",
       "      <td>86.000000</td>\n",
       "      <td>86.000000</td>\n",
       "      <td>86.000000</td>\n",
       "      <td>86.000000</td>\n",
       "      <td>86.000000</td>\n",
       "      <td>86.000000</td>\n",
       "      <td>86.000000</td>\n",
       "      <td>86.000000</td>\n",
       "      <td>86.000000</td>\n",
       "      <td>86.000000</td>\n",
       "      <td>86.000000</td>\n",
       "      <td>86.000000</td>\n",
       "      <td>86.000000</td>\n",
       "      <td>86.000000</td>\n",
       "      <td>86.000000</td>\n",
       "      <td>86.000000</td>\n",
       "      <td>86.000000</td>\n",
       "    </tr>\n",
       "    <tr>\n",
       "      <th>mean</th>\n",
       "      <td>46.883721</td>\n",
       "      <td>19754.406977</td>\n",
       "      <td>7843.058140</td>\n",
       "      <td>39.255814</td>\n",
       "      <td>7075.546512</td>\n",
       "      <td>19049.906977</td>\n",
       "      <td>36522.604651</td>\n",
       "      <td>43.500000</td>\n",
       "      <td>42.802326</td>\n",
       "      <td>43.430233</td>\n",
       "      <td>43.500000</td>\n",
       "      <td>43.511628</td>\n",
       "      <td>43.500000</td>\n",
       "      <td>43.500000</td>\n",
       "      <td>43.500000</td>\n",
       "      <td>43.127907</td>\n",
       "      <td>141.872093</td>\n",
       "      <td>207.953140</td>\n",
       "      <td>6146.988372</td>\n",
       "      <td>378.628721</td>\n",
       "    </tr>\n",
       "    <tr>\n",
       "      <th>std</th>\n",
       "      <td>30.426157</td>\n",
       "      <td>7504.703073</td>\n",
       "      <td>3051.352839</td>\n",
       "      <td>17.364051</td>\n",
       "      <td>5834.595216</td>\n",
       "      <td>8820.233546</td>\n",
       "      <td>31312.532649</td>\n",
       "      <td>24.969982</td>\n",
       "      <td>25.028370</td>\n",
       "      <td>24.999549</td>\n",
       "      <td>24.969982</td>\n",
       "      <td>24.948297</td>\n",
       "      <td>24.969982</td>\n",
       "      <td>24.969982</td>\n",
       "      <td>24.969982</td>\n",
       "      <td>24.799809</td>\n",
       "      <td>520.969318</td>\n",
       "      <td>109.320837</td>\n",
       "      <td>1398.246620</td>\n",
       "      <td>148.777230</td>\n",
       "    </tr>\n",
       "    <tr>\n",
       "      <th>min</th>\n",
       "      <td>1.000000</td>\n",
       "      <td>2199.000000</td>\n",
       "      <td>1368.000000</td>\n",
       "      <td>12.000000</td>\n",
       "      <td>1246.000000</td>\n",
       "      <td>2660.000000</td>\n",
       "      <td>3460.000000</td>\n",
       "      <td>1.000000</td>\n",
       "      <td>1.000000</td>\n",
       "      <td>1.000000</td>\n",
       "      <td>1.000000</td>\n",
       "      <td>1.000000</td>\n",
       "      <td>1.000000</td>\n",
       "      <td>1.000000</td>\n",
       "      <td>1.000000</td>\n",
       "      <td>1.000000</td>\n",
       "      <td>0.000000</td>\n",
       "      <td>0.000000</td>\n",
       "      <td>762.000000</td>\n",
       "      <td>129.100000</td>\n",
       "    </tr>\n",
       "    <tr>\n",
       "      <th>25%</th>\n",
       "      <td>24.250000</td>\n",
       "      <td>14156.250000</td>\n",
       "      <td>5933.000000</td>\n",
       "      <td>25.000000</td>\n",
       "      <td>3446.750000</td>\n",
       "      <td>14299.750000</td>\n",
       "      <td>15463.000000</td>\n",
       "      <td>22.250000</td>\n",
       "      <td>21.250000</td>\n",
       "      <td>22.250000</td>\n",
       "      <td>22.250000</td>\n",
       "      <td>22.250000</td>\n",
       "      <td>22.250000</td>\n",
       "      <td>22.250000</td>\n",
       "      <td>22.250000</td>\n",
       "      <td>23.250000</td>\n",
       "      <td>6.000000</td>\n",
       "      <td>121.383000</td>\n",
       "      <td>5400.750000</td>\n",
       "      <td>283.005000</td>\n",
       "    </tr>\n",
       "    <tr>\n",
       "      <th>50%</th>\n",
       "      <td>45.500000</td>\n",
       "      <td>18748.500000</td>\n",
       "      <td>7595.000000</td>\n",
       "      <td>38.000000</td>\n",
       "      <td>5020.000000</td>\n",
       "      <td>17141.500000</td>\n",
       "      <td>26743.500000</td>\n",
       "      <td>43.500000</td>\n",
       "      <td>42.500000</td>\n",
       "      <td>43.500000</td>\n",
       "      <td>43.500000</td>\n",
       "      <td>43.500000</td>\n",
       "      <td>43.500000</td>\n",
       "      <td>43.500000</td>\n",
       "      <td>43.500000</td>\n",
       "      <td>41.500000</td>\n",
       "      <td>33.000000</td>\n",
       "      <td>200.616000</td>\n",
       "      <td>6070.500000</td>\n",
       "      <td>346.165000</td>\n",
       "    </tr>\n",
       "    <tr>\n",
       "      <th>75%</th>\n",
       "      <td>66.750000</td>\n",
       "      <td>25937.500000</td>\n",
       "      <td>9182.250000</td>\n",
       "      <td>51.750000</td>\n",
       "      <td>9446.750000</td>\n",
       "      <td>22682.250000</td>\n",
       "      <td>44057.500000</td>\n",
       "      <td>64.750000</td>\n",
       "      <td>63.750000</td>\n",
       "      <td>64.750000</td>\n",
       "      <td>64.750000</td>\n",
       "      <td>64.750000</td>\n",
       "      <td>64.750000</td>\n",
       "      <td>64.750000</td>\n",
       "      <td>64.750000</td>\n",
       "      <td>64.750000</td>\n",
       "      <td>113.750000</td>\n",
       "      <td>289.670500</td>\n",
       "      <td>6816.500000</td>\n",
       "      <td>444.407500</td>\n",
       "    </tr>\n",
       "    <tr>\n",
       "      <th>max</th>\n",
       "      <td>200.000000</td>\n",
       "      <td>37014.000000</td>\n",
       "      <td>20235.000000</td>\n",
       "      <td>74.000000</td>\n",
       "      <td>37015.000000</td>\n",
       "      <td>62486.000000</td>\n",
       "      <td>163241.000000</td>\n",
       "      <td>86.000000</td>\n",
       "      <td>86.000000</td>\n",
       "      <td>86.000000</td>\n",
       "      <td>86.000000</td>\n",
       "      <td>86.000000</td>\n",
       "      <td>86.000000</td>\n",
       "      <td>86.000000</td>\n",
       "      <td>86.000000</td>\n",
       "      <td>86.000000</td>\n",
       "      <td>4744.000000</td>\n",
       "      <td>539.213000</td>\n",
       "      <td>10000.000000</td>\n",
       "      <td>989.940000</td>\n",
       "    </tr>\n",
       "  </tbody>\n",
       "</table>\n",
       "</div>"
      ],
      "text/plain": [
       "             dept    Crime_pers    Crime_prop   Literacy     Donations  \\\n",
       "count   86.000000     86.000000     86.000000  86.000000     86.000000   \n",
       "mean    46.883721  19754.406977   7843.058140  39.255814   7075.546512   \n",
       "std     30.426157   7504.703073   3051.352839  17.364051   5834.595216   \n",
       "min      1.000000   2199.000000   1368.000000  12.000000   1246.000000   \n",
       "25%     24.250000  14156.250000   5933.000000  25.000000   3446.750000   \n",
       "50%     45.500000  18748.500000   7595.000000  38.000000   5020.000000   \n",
       "75%     66.750000  25937.500000   9182.250000  51.750000   9446.750000   \n",
       "max    200.000000  37014.000000  20235.000000  74.000000  37015.000000   \n",
       "\n",
       "            Infants       Suicides     Wealth   Commerce     Clergy  \\\n",
       "count     86.000000      86.000000  86.000000  86.000000  86.000000   \n",
       "mean   19049.906977   36522.604651  43.500000  42.802326  43.430233   \n",
       "std     8820.233546   31312.532649  24.969982  25.028370  24.999549   \n",
       "min     2660.000000    3460.000000   1.000000   1.000000   1.000000   \n",
       "25%    14299.750000   15463.000000  22.250000  21.250000  22.250000   \n",
       "50%    17141.500000   26743.500000  43.500000  42.500000  43.500000   \n",
       "75%    22682.250000   44057.500000  64.750000  63.750000  64.750000   \n",
       "max    62486.000000  163241.000000  86.000000  86.000000  86.000000   \n",
       "\n",
       "       Crime_parents  Infanticide  Donation_clergy    Lottery  Desertion  \\\n",
       "count      86.000000    86.000000        86.000000  86.000000  86.000000   \n",
       "mean       43.500000    43.511628        43.500000  43.500000  43.500000   \n",
       "std        24.969982    24.948297        24.969982  24.969982  24.969982   \n",
       "min         1.000000     1.000000         1.000000   1.000000   1.000000   \n",
       "25%        22.250000    22.250000        22.250000  22.250000  22.250000   \n",
       "50%        43.500000    43.500000        43.500000  43.500000  43.500000   \n",
       "75%        64.750000    64.750000        64.750000  64.750000  64.750000   \n",
       "max        86.000000    86.000000        86.000000  86.000000  86.000000   \n",
       "\n",
       "       Instruction  Prostitutes    Distance          Area     Pop1831  \n",
       "count    86.000000    86.000000   86.000000     86.000000   86.000000  \n",
       "mean     43.127907   141.872093  207.953140   6146.988372  378.628721  \n",
       "std      24.799809   520.969318  109.320837   1398.246620  148.777230  \n",
       "min       1.000000     0.000000    0.000000    762.000000  129.100000  \n",
       "25%      23.250000     6.000000  121.383000   5400.750000  283.005000  \n",
       "50%      41.500000    33.000000  200.616000   6070.500000  346.165000  \n",
       "75%      64.750000   113.750000  289.670500   6816.500000  444.407500  \n",
       "max      86.000000  4744.000000  539.213000  10000.000000  989.940000  "
      ]
     },
     "execution_count": 2,
     "metadata": {},
     "output_type": "execute_result"
    }
   ],
   "source": [
    "dat = sm.datasets.get_rdataset(\"Guerry\", \"HistData\").data\n",
    "dat.describe()"
   ]
  },
  {
   "cell_type": "markdown",
   "metadata": {},
   "source": [
    "#### Ajustando o modelo de regressão linear e resumindo o ajuste"
   ]
  },
  {
   "cell_type": "code",
   "execution_count": 3,
   "metadata": {},
   "outputs": [
    {
     "name": "stdout",
     "output_type": "stream",
     "text": [
      "                            OLS Regression Results                            \n",
      "==============================================================================\n",
      "Dep. Variable:                Lottery   R-squared:                       0.348\n",
      "Model:                            OLS   Adj. R-squared:                  0.333\n",
      "Method:                 Least Squares   F-statistic:                     22.20\n",
      "Date:                Fri, 26 Jan 2018   Prob (F-statistic):           1.90e-08\n",
      "Time:                        11:43:56   Log-Likelihood:                -379.82\n",
      "No. Observations:                  86   AIC:                             765.6\n",
      "Df Residuals:                      83   BIC:                             773.0\n",
      "Df Model:                           2                                         \n",
      "Covariance Type:            nonrobust                                         \n",
      "===================================================================================\n",
      "                      coef    std err          t      P>|t|      [0.025      0.975]\n",
      "-----------------------------------------------------------------------------------\n",
      "Intercept         246.4341     35.233      6.995      0.000     176.358     316.510\n",
      "Literacy           -0.4889      0.128     -3.832      0.000      -0.743      -0.235\n",
      "np.log(Pop1831)   -31.3114      5.977     -5.239      0.000     -43.199     -19.424\n",
      "==============================================================================\n",
      "Omnibus:                        3.713   Durbin-Watson:                   2.019\n",
      "Prob(Omnibus):                  0.156   Jarque-Bera (JB):                3.394\n",
      "Skew:                          -0.487   Prob(JB):                        0.183\n",
      "Kurtosis:                       3.003   Cond. No.                         702.\n",
      "==============================================================================\n",
      "\n",
      "Warnings:\n",
      "[1] Standard Errors assume that the covariance matrix of the errors is correctly specified.\n"
     ]
    }
   ],
   "source": [
    "results = smf.ols('Lottery ~ Literacy + np.log(Pop1831)', data=dat).fit()\n",
    "print(results.summary())"
   ]
  },
  {
   "cell_type": "markdown",
   "metadata": {},
   "source": [
    "Este foi a forma mais simples e direta de ajustar um modelo de regressão em python.\n",
    "\n",
    "### Regressão linear: dados simulados\n",
    "\n",
    "Vamos ver como ajustar o modelo passo-a-passo usando um conjunto de dados simulados.\n",
    "Vamos impor alguns modulos e setar a semente para a nossa simulação ser reproduzível.\n"
   ]
  },
  {
   "cell_type": "code",
   "execution_count": 4,
   "metadata": {
    "collapsed": true
   },
   "outputs": [],
   "source": [
    "%matplotlib inline\n",
    "from __future__ import print_function\n",
    "import matplotlib.pyplot as plt\n",
    "from statsmodels.sandbox.regression.predstd import wls_prediction_std\n",
    "\n",
    "np.random.seed(9876789)"
   ]
  },
  {
   "cell_type": "markdown",
   "metadata": {},
   "source": [
    "Próximo passo vamos simular do modelo de regressão."
   ]
  },
  {
   "cell_type": "code",
   "execution_count": 5,
   "metadata": {
    "collapsed": true
   },
   "outputs": [],
   "source": [
    "nsample = 100\n",
    "x = np.linspace(0, 10, 100)\n",
    "X = np.column_stack((x, x**2))\n",
    "beta = np.array([1, 0.1, 10])\n",
    "e = np.random.normal(size=nsample)\n",
    "X = sm.add_constant(X)\n",
    "y = np.dot(X, beta) + e"
   ]
  },
  {
   "cell_type": "markdown",
   "metadata": {},
   "source": [
    "Ajuste via minímos quadrados ordinários e resumindo o ajuste."
   ]
  },
  {
   "cell_type": "code",
   "execution_count": 6,
   "metadata": {},
   "outputs": [
    {
     "name": "stdout",
     "output_type": "stream",
     "text": [
      "                            OLS Regression Results                            \n",
      "==============================================================================\n",
      "Dep. Variable:                      y   R-squared:                       1.000\n",
      "Model:                            OLS   Adj. R-squared:                  1.000\n",
      "Method:                 Least Squares   F-statistic:                 4.020e+06\n",
      "Date:                Fri, 26 Jan 2018   Prob (F-statistic):          2.83e-239\n",
      "Time:                        11:43:56   Log-Likelihood:                -146.51\n",
      "No. Observations:                 100   AIC:                             299.0\n",
      "Df Residuals:                      97   BIC:                             306.8\n",
      "Df Model:                           2                                         \n",
      "Covariance Type:            nonrobust                                         \n",
      "==============================================================================\n",
      "                 coef    std err          t      P>|t|      [0.025      0.975]\n",
      "------------------------------------------------------------------------------\n",
      "const          1.3423      0.313      4.292      0.000       0.722       1.963\n",
      "x1            -0.0402      0.145     -0.278      0.781      -0.327       0.247\n",
      "x2            10.0103      0.014    715.745      0.000       9.982      10.038\n",
      "==============================================================================\n",
      "Omnibus:                        2.042   Durbin-Watson:                   2.274\n",
      "Prob(Omnibus):                  0.360   Jarque-Bera (JB):                1.875\n",
      "Skew:                           0.234   Prob(JB):                        0.392\n",
      "Kurtosis:                       2.519   Cond. No.                         144.\n",
      "==============================================================================\n",
      "\n",
      "Warnings:\n",
      "[1] Standard Errors assume that the covariance matrix of the errors is correctly specified.\n"
     ]
    }
   ],
   "source": [
    "model = sm.OLS(y, X)\n",
    "results = model.fit()\n",
    "print(results.summary())"
   ]
  },
  {
   "cell_type": "markdown",
   "metadata": {},
   "source": [
    "Extraindo algumas quantidades de interesse."
   ]
  },
  {
   "cell_type": "code",
   "execution_count": 7,
   "metadata": {},
   "outputs": [
    {
     "name": "stdout",
     "output_type": "stream",
     "text": [
      "Parameters:  [  1.34233516  -0.04024948  10.01025357]\n",
      "R2:  0.999987936503\n"
     ]
    }
   ],
   "source": [
    "print('Parameters: ', results.params)\n",
    "print('R2: ', results.rsquared)"
   ]
  },
  {
   "cell_type": "markdown",
   "metadata": {},
   "source": [
    "## Ajuste de curvas via OLS"
   ]
  },
  {
   "cell_type": "code",
   "execution_count": 8,
   "metadata": {
    "collapsed": true
   },
   "outputs": [],
   "source": [
    "nsample = 50\n",
    "sig = 0.5\n",
    "x = np.linspace(0, 20, nsample)\n",
    "X = np.column_stack((x, np.sin(x), (x-5)**2, np.ones(nsample)))\n",
    "beta = [0.5, 0.5, -0.02, 5.]\n",
    "\n",
    "mu = np.dot(X, beta)\n",
    "y = mu + sig * np.random.normal(size=nsample)"
   ]
  },
  {
   "cell_type": "markdown",
   "metadata": {},
   "source": [
    "Ajustando o modelo e resumindo o ajuste."
   ]
  },
  {
   "cell_type": "code",
   "execution_count": 9,
   "metadata": {},
   "outputs": [
    {
     "name": "stdout",
     "output_type": "stream",
     "text": [
      "                            OLS Regression Results                            \n",
      "==============================================================================\n",
      "Dep. Variable:                      y   R-squared:                       0.933\n",
      "Model:                            OLS   Adj. R-squared:                  0.928\n",
      "Method:                 Least Squares   F-statistic:                     211.8\n",
      "Date:                Fri, 26 Jan 2018   Prob (F-statistic):           6.30e-27\n",
      "Time:                        11:43:56   Log-Likelihood:                -34.438\n",
      "No. Observations:                  50   AIC:                             76.88\n",
      "Df Residuals:                      46   BIC:                             84.52\n",
      "Df Model:                           3                                         \n",
      "Covariance Type:            nonrobust                                         \n",
      "==============================================================================\n",
      "                 coef    std err          t      P>|t|      [0.025      0.975]\n",
      "------------------------------------------------------------------------------\n",
      "x1             0.4687      0.026     17.751      0.000       0.416       0.522\n",
      "x2             0.4836      0.104      4.659      0.000       0.275       0.693\n",
      "x3            -0.0174      0.002     -7.507      0.000      -0.022      -0.013\n",
      "const          5.2058      0.171     30.405      0.000       4.861       5.550\n",
      "==============================================================================\n",
      "Omnibus:                        0.655   Durbin-Watson:                   2.896\n",
      "Prob(Omnibus):                  0.721   Jarque-Bera (JB):                0.360\n",
      "Skew:                           0.207   Prob(JB):                        0.835\n",
      "Kurtosis:                       3.026   Cond. No.                         221.\n",
      "==============================================================================\n",
      "\n",
      "Warnings:\n",
      "[1] Standard Errors assume that the covariance matrix of the errors is correctly specified.\n"
     ]
    }
   ],
   "source": [
    "res = sm.OLS(y, X).fit()\n",
    "print(res.summary())"
   ]
  },
  {
   "cell_type": "markdown",
   "metadata": {},
   "source": [
    "Novamente extraindo quantidades de interesse."
   ]
  },
  {
   "cell_type": "code",
   "execution_count": 10,
   "metadata": {},
   "outputs": [
    {
     "name": "stdout",
     "output_type": "stream",
     "text": [
      "Parameters:  [ 0.46872448  0.48360119 -0.01740479  5.20584496]\n",
      "Standard errors:  [ 0.02640602  0.10380518  0.00231847  0.17121765]\n",
      "Predicted values:  [  4.77072516   5.22213464   5.63620761   5.98658823   6.25643234\n",
      "   6.44117491   6.54928009   6.60085051   6.62432454   6.6518039\n",
      "   6.71377946   6.83412169   7.02615877   7.29048685   7.61487206\n",
      "   7.97626054   8.34456611   8.68761335   8.97642389   9.18997755\n",
      "   9.31866582   9.36587056   9.34740836   9.28893189   9.22171529\n",
      "   9.17751587   9.1833565    9.25708583   9.40444579   9.61812821\n",
      "   9.87897556  10.15912843  10.42660281  10.65054491  10.8063004\n",
      "  10.87946503  10.86825119  10.78378163  10.64826203  10.49133265\n",
      "  10.34519853  10.23933827  10.19566084  10.22490593  10.32487947\n",
      "  10.48081414  10.66779556  10.85485568  11.01006072  11.10575781]\n"
     ]
    }
   ],
   "source": [
    "print('Parameters: ', res.params)\n",
    "print('Standard errors: ', res.bse)\n",
    "print('Predicted values: ', res.predict())"
   ]
  },
  {
   "cell_type": "markdown",
   "metadata": {},
   "source": [
    "Podemos plotar um diagrama de dispersão com a curva ajustada para visualizar o ajuste."
   ]
  },
  {
   "cell_type": "code",
   "execution_count": 11,
   "metadata": {},
   "outputs": [
    {
     "data": {
      "image/png": "[encoded data removed]",
      "text/plain": [
       "<matplotlib.figure.Figure at 0x7f68e181dba8>"
      ]
     },
     "metadata": {},
     "output_type": "display_data"
    }
   ],
   "source": [
    "prstd, iv_l, iv_u = wls_prediction_std(res)\n",
    "\n",
    "fig, ax = plt.subplots(figsize=(8,6))\n",
    "\n",
    "ax.plot(x, y, 'o', label=\"data\")\n",
    "ax.plot(x, mu, 'b-', label=\"True\")\n",
    "ax.plot(x, res.fittedvalues, 'r--.', label=\"OLS\")\n",
    "ax.plot(x, iv_u, 'r--')\n",
    "ax.plot(x, iv_l, 'r--')\n",
    "ax.legend(loc='best');"
   ]
  },
  {
   "cell_type": "markdown",
   "metadata": {},
   "source": [
    "## Modelos Lineares Generalizados\n",
    "\n",
    "### Regressão logística\n",
    "\n",
    "Para este exemplo vamos usar um conjunto de dados do livro Jeff Gill (2000) Generalized linear models: A unified approach. Podemos ver uma descrição geral do conjunto de dados."
   ]
  },
  {
   "cell_type": "code",
   "execution_count": 12,
   "metadata": {},
   "outputs": [
    {
     "name": "stdout",
     "output_type": "stream",
     "text": [
      "::\n",
      "\n",
      "    Number of Observations - 303 (counties in California).\n",
      "\n",
      "    Number of Variables - 13 and 8 interaction terms.\n",
      "\n",
      "    Definition of variables names::\n",
      "\n",
      "        NABOVE   - Total number of students above the national median for the\n",
      "                   math section.\n",
      "        NBELOW   - Total number of students below the national median for the\n",
      "                   math section.\n",
      "        LOWINC   - Percentage of low income students\n",
      "        PERASIAN - Percentage of Asian student\n",
      "        PERBLACK - Percentage of black students\n",
      "        PERHISP  - Percentage of Hispanic students\n",
      "        PERMINTE - Percentage of minority teachers\n",
      "        AVYRSEXP - Sum of teachers' years in educational service divided by the\n",
      "                number of teachers.\n",
      "        AVSALK   - Total salary budget including benefits divided by the number\n",
      "                   of full-time teachers (in thousands)\n",
      "        PERSPENK - Per-pupil spending (in thousands)\n",
      "        PTRATIO  - Pupil-teacher ratio.\n",
      "        PCTAF    - Percentage of students taking UC/CSU prep courses\n",
      "        PCTCHRT  - Percentage of charter schools\n",
      "        PCTYRRND - Percentage of year-round schools\n",
      "\n",
      "        The below variables are interaction terms of the variables defined\n",
      "        above.\n",
      "\n",
      "        PERMINTE_AVYRSEXP\n",
      "        PEMINTE_AVSAL\n",
      "        AVYRSEXP_AVSAL\n",
      "        PERSPEN_PTRATIO\n",
      "        PERSPEN_PCTAF\n",
      "        PTRATIO_PCTAF\n",
      "        PERMINTE_AVTRSEXP_AVSAL\n",
      "        PERSPEN_PTRATIO_PCTAF\n",
      "\n"
     ]
    }
   ],
   "source": [
    "print(sm.datasets.star98.NOTE)"
   ]
  },
  {
   "cell_type": "markdown",
   "metadata": {},
   "source": [
    "Vamos agora carregar o conjunto de dados que está disponível no modulo `statsmodel`. \n",
    "Neste caso o objeto carregado já é um `statsmodels.dataset` objeto e portanto, já tem alguns atributos importantes. Ao construir tal objeto o usuário já deve definir quais são as covariáveis ou *exogenous variables* na nomenclatura usada pelo modulo. Além disso, neste caso como é um modelo de regressão binomial a variável resposta tem duas colunas, número de sucessos e número de fracassos. "
   ]
  },
  {
   "cell_type": "code",
   "execution_count": 13,
   "metadata": {},
   "outputs": [
    {
     "name": "stdout",
     "output_type": "stream",
     "text": [
      "['LOWINC', 'PERASIAN', 'PERBLACK', 'PERHISP', 'PERMINTE', 'AVYRSEXP', 'AVSALK', 'PERSPENK', 'PTRATIO', 'PCTAF', 'PCTCHRT', 'PCTYRRND', 'PERMINTE_AVYRSEXP', 'PERMINTE_AVSAL', 'AVYRSEXP_AVSAL', 'PERSPEN_PTRATIO', 'PERSPEN_PCTAF', 'PTRATIO_PCTAF', 'PERMINTE_AVYRSEXP_AVSAL', 'PERSPEN_PTRATIO_PCTAF']\n",
      "['NABOVE', 'NBELOW']\n"
     ]
    }
   ],
   "source": [
    "data = sm.datasets.star98.load()\n",
    "print(data.exog_name)\n",
    "print(data.endog_name)"
   ]
  },
  {
   "cell_type": "markdown",
   "metadata": {},
   "source": [
    "Primeiro instanciamos (não sei se isso existe em pt) o modelo. Veja que o primeiro argumento são as variáveis endogeneas, ou seja, a resposta. O segundo argumento são as variávies exogenas (covariáveis). Após isso, selecionamos a família que neste caso é Binomial. "
   ]
  },
  {
   "cell_type": "code",
   "execution_count": 14,
   "metadata": {
    "collapsed": true
   },
   "outputs": [],
   "source": [
    "glm_binom = sm.GLM(data.endog, data.exog, family=sm.families.Binomial())"
   ]
  },
  {
   "cell_type": "markdown",
   "metadata": {},
   "source": [
    "Ajustamos o modelo e resumimos o ajuste."
   ]
  },
  {
   "cell_type": "code",
   "execution_count": 15,
   "metadata": {},
   "outputs": [
    {
     "name": "stdout",
     "output_type": "stream",
     "text": [
      "                 Generalized Linear Model Regression Results                  \n",
      "==============================================================================\n",
      "Dep. Variable:           ['y1', 'y2']   No. Observations:                  303\n",
      "Model:                            GLM   Df Residuals:                      283\n",
      "Model Family:                Binomial   Df Model:                           19\n",
      "Link Function:                  logit   Scale:                             1.0\n",
      "Method:                          IRLS   Log-Likelihood:                -3000.5\n",
      "Date:                Fri, 26 Jan 2018   Deviance:                       4082.4\n",
      "Time:                        11:43:57   Pearson chi2:                     9.50\n",
      "No. Iterations:                     5                                         \n",
      "==============================================================================\n",
      "                 coef    std err          z      P>|z|      [0.025      0.975]\n",
      "------------------------------------------------------------------------------\n",
      "x1            -0.0169      0.000    -39.491      0.000      -0.018      -0.016\n",
      "x2             0.0101      0.001     16.832      0.000       0.009       0.011\n",
      "x3            -0.0186      0.001    -25.132      0.000      -0.020      -0.017\n",
      "x4            -0.0142      0.000    -32.755      0.000      -0.015      -0.013\n",
      "x5             0.2778      0.027     10.154      0.000       0.224       0.331\n",
      "x6             0.2937      0.050      5.872      0.000       0.196       0.392\n",
      "x7             0.0930      0.012      7.577      0.000       0.069       0.117\n",
      "x8            -1.4432      0.171     -8.461      0.000      -1.777      -1.109\n",
      "x9            -0.2347      0.032     -7.283      0.000      -0.298      -0.172\n",
      "x10           -0.1179      0.019     -6.351      0.000      -0.154      -0.081\n",
      "x11            0.0047      0.001      3.748      0.000       0.002       0.007\n",
      "x12           -0.0036      0.000    -16.239      0.000      -0.004      -0.003\n",
      "x13           -0.0157      0.002     -9.142      0.000      -0.019      -0.012\n",
      "x14           -0.0044      0.000    -10.137      0.000      -0.005      -0.004\n",
      "x15           -0.0048      0.001     -5.646      0.000      -0.006      -0.003\n",
      "x16            0.0686      0.008      8.587      0.000       0.053       0.084\n",
      "x17            0.0372      0.004      9.099      0.000       0.029       0.045\n",
      "x18            0.0057      0.001      6.760      0.000       0.004       0.007\n",
      "x19            0.0002   2.68e-05      9.237      0.000       0.000       0.000\n",
      "x20           -0.0017      0.000     -8.680      0.000      -0.002      -0.001\n",
      "==============================================================================\n"
     ]
    }
   ],
   "source": [
    "res = glm_binom.fit()\n",
    "print(res.summary())"
   ]
  },
  {
   "cell_type": "markdown",
   "metadata": {},
   "source": [
    "Alguns gráficos para explorar o ajuste."
   ]
  },
  {
   "cell_type": "code",
   "execution_count": 16,
   "metadata": {
    "collapsed": true
   },
   "outputs": [],
   "source": [
    "nobs = res.nobs\n",
    "y = data.endog[:,0]/data.endog.sum(1)\n",
    "yhat = res.mu"
   ]
  },
  {
   "cell_type": "markdown",
   "metadata": {},
   "source": [
    "O modulo `statsmodels` tem vários sub modulos um deles é para fazer gráficos de resíduos. Veja o código abaixo."
   ]
  },
  {
   "cell_type": "code",
   "execution_count": 17,
   "metadata": {},
   "outputs": [
    {
     "data": {
      "image/png": "[encoded data removed]",
      "text/plain": [
       "<matplotlib.figure.Figure at 0x7f68e14016d8>"
      ]
     },
     "metadata": {},
     "output_type": "display_data"
    }
   ],
   "source": [
    "from statsmodels.graphics.api import abline_plot\n",
    "from scipy import stats\n",
    "\n",
    "means = data.exog.mean(axis=0)\n",
    "means25 = means.copy()\n",
    "means25[0] = stats.scoreatpercentile(data.exog[:,0], 25)\n",
    "means75 = means.copy()\n",
    "means75[0] = lowinc_75per = stats.scoreatpercentile(data.exog[:,0], 75)\n",
    "resp_25 = res.predict(means25)\n",
    "resp_75 = res.predict(means75)\n",
    "diff = resp_75 - resp_25\n",
    "\n",
    "fig, ax = plt.subplots()\n",
    "ax.scatter(yhat, y)\n",
    "line_fit = sm.OLS(y, sm.add_constant(yhat, prepend=True)).fit()\n",
    "abline_plot(model_results=line_fit, ax=ax)\n",
    "\n",
    "ax.set_title('Model Fit Plot')\n",
    "ax.set_ylabel('Observed values')\n",
    "ax.set_xlabel('Fitted values');"
   ]
  },
  {
   "cell_type": "markdown",
   "metadata": {},
   "source": [
    "Gráficos de resíduos de Pearson versus fitted values."
   ]
  },
  {
   "cell_type": "code",
   "execution_count": 18,
   "metadata": {},
   "outputs": [
    {
     "data": {
      "text/plain": [
       "<matplotlib.text.Text at 0x7f68e13bf0b8>"
      ]
     },
     "execution_count": 18,
     "metadata": {},
     "output_type": "execute_result"
    },
    {
     "data": {
      "image/png": "[encoded data removed]",
      "text/plain": [
       "<matplotlib.figure.Figure at 0x7f68e147c470>"
      ]
     },
     "metadata": {},
     "output_type": "display_data"
    }
   ],
   "source": [
    "fig, ax = plt.subplots()\n",
    "\n",
    "ax.scatter(yhat, res.resid_pearson)\n",
    "ax.hlines(0, 0, 1)\n",
    "ax.set_xlim(0, 1)\n",
    "ax.set_title('Residual Dependence Plot')\n",
    "ax.set_ylabel('Pearson Residuals')\n",
    "ax.set_xlabel('Fitted values')"
   ]
  },
  {
   "cell_type": "markdown",
   "metadata": {},
   "source": [
    "Historgrama dos resíduos deviance."
   ]
  },
  {
   "cell_type": "code",
   "execution_count": 19,
   "metadata": {},
   "outputs": [
    {
     "data": {
      "image/png": "[encoded data removed]",
      "text/plain": [
       "<matplotlib.figure.Figure at 0x7f68e1392668>"
      ]
     },
     "metadata": {},
     "output_type": "display_data"
    }
   ],
   "source": [
    "fig, ax = plt.subplots()\n",
    "\n",
    "resid = res.resid_deviance.copy()\n",
    "resid_std = stats.zscore(resid)\n",
    "ax.hist(resid_std, bins=25)\n",
    "ax.set_title('Histogram of standardized deviance residuals');"
   ]
  },
  {
   "cell_type": "markdown",
   "metadata": {},
   "source": [
    "QQ-plot."
   ]
  },
  {
   "cell_type": "code",
   "execution_count": 20,
   "metadata": {},
   "outputs": [
    {
     "data": {
      "image/png": "[encoded data removed]",
      "text/plain": [
       "<matplotlib.figure.Figure at 0x7f68e1401e10>"
      ]
     },
     "execution_count": 20,
     "metadata": {},
     "output_type": "execute_result"
    },
    {
     "data": {
      "image/png": "[encoded data removed]",
      "text/plain": [
       "<matplotlib.figure.Figure at 0x7f68e1401e10>"
      ]
     },
     "metadata": {},
     "output_type": "display_data"
    }
   ],
   "source": [
    "from statsmodels import graphics\n",
    "graphics.gofplots.qqplot(resid, line='r')"
   ]
  },
  {
   "cell_type": "markdown",
   "metadata": {},
   "source": [
    "### Regressão Poisson e Binomial negativo\n",
    "\n",
    "Para terminar esse encontro vamos reanalisar os dados do capulho usando modelo de regressão Poisson e binomial negativo. Primeiro vamos carregar o modulo `pandas` para ler a base de dados conforme o Walmes explicou nos últimos dois encontros."
   ]
  },
  {
   "cell_type": "code",
   "execution_count": 21,
   "metadata": {},
   "outputs": [
    {
     "data": {
      "text/plain": [
       "estag      object\n",
       "desf        int64\n",
       "rep         int64\n",
       "pcapu     float64\n",
       "nnos        int64\n",
       "alt       float64\n",
       "ncapu       int64\n",
       "nestru      int64\n",
       "dtype: object"
      ]
     },
     "execution_count": 21,
     "metadata": {},
     "output_type": "execute_result"
    }
   ],
   "source": [
    "import pandas as pd\n",
    "cap = pd.read_table('http://leg.ufpr.br/~walmes/data/desfolha.txt')\n",
    "cap.dtypes"
   ]
  },
  {
   "cell_type": "markdown",
   "metadata": {},
   "source": [
    "Neste caso a resposta é o número de capulhos coluna `ncapu` e como covariáveis temos: estágio fenológico (`estag`) e nível de desfolha (`desf`). Seguinte o nosso artigo, foram ajustados alguns modelos encaixados são eles:\n",
    "  - Model 1: ncapu ~ 1;\n",
    "  - Model 2: ncapu ~ desf + I(desf^2);\n",
    "  - Model 3: ncapu ~ est:desf + I(desf^2);\n",
    "  - Model 4: ncapu ~ est:(desf + I(desf^2)).\n",
    "\n",
    "Como o `statsmodels` suporta `formula` igual ao `R` podemos ajustar exatamente os mesmos modelos."
   ]
  },
  {
   "cell_type": "code",
   "execution_count": 22,
   "metadata": {},
   "outputs": [
    {
     "name": "stdout",
     "output_type": "stream",
     "text": [
      "[561.86550682343068, 548.24645861002, 530.939348753133, 532.87273473510959]\n"
     ]
    },
    {
     "data": {
      "text/html": [
       "<table class=\"simpletable\">\n",
       "<tr>\n",
       "        <td>Model:</td>               <td>GLM</td>            <td>AIC:</td>       <td>530.9393</td> \n",
       "</tr>\n",
       "<tr>\n",
       "    <td>Link Function:</td>           <td>log</td>            <td>BIC:</td>       <td>-537.1531</td>\n",
       "</tr>\n",
       "<tr>\n",
       "  <td>Dependent Variable:</td>       <td>ncapu</td>      <td>Log-Likelihood:</td>  <td>-258.47</td> \n",
       "</tr>\n",
       "<tr>\n",
       "         <td>Date:</td>        <td>2018-01-26 11:43</td>    <td>LL-Null:</td>      <td>-279.93</td> \n",
       "</tr>\n",
       "<tr>\n",
       "   <td>No. Observations:</td>         <td>125</td>          <td>Deviance:</td>     <td>32.588</td>  \n",
       "</tr>\n",
       "<tr>\n",
       "       <td>Df Model:</td>              <td>6</td>         <td>Pearson chi2:</td>    <td>32.6</td>   \n",
       "</tr>\n",
       "<tr>\n",
       "     <td>Df Residuals:</td>           <td>118</td>           <td>Scale:</td>       <td>1.0000</td>  \n",
       "</tr>\n",
       "<tr>\n",
       "        <td>Method:</td>             <td>IRLS</td>              <td></td>             <td></td>     \n",
       "</tr>\n",
       "</table>\n",
       "<table class=\"simpletable\">\n",
       "<tr>\n",
       "          <td></td>           <th>Coef.</th>  <th>Std.Err.</th>    <th>z</th>     <th>P>|z|</th> <th>[0.025</th>  <th>0.975]</th>\n",
       "</tr>\n",
       "<tr>\n",
       "  <th>Intercept</th>         <td>2.2690</td>   <td>0.0582</td>  <td>38.9845</td> <td>0.0000</td> <td>2.1549</td>  <td>2.3831</td>\n",
       "</tr>\n",
       "<tr>\n",
       "  <th>estag[1veg]:desf</th>  <td>0.0218</td>   <td>0.0174</td>  <td>1.2544</td>  <td>0.2097</td> <td>-0.0123</td> <td>0.0558</td>\n",
       "</tr>\n",
       "<tr>\n",
       "  <th>estag[2bot]:desf</th>  <td>0.0229</td>   <td>0.0174</td>  <td>1.3161</td>  <td>0.1881</td> <td>-0.0112</td> <td>0.0569</td>\n",
       "</tr>\n",
       "<tr>\n",
       "  <th>estag[3flor]:desf</th> <td>0.0169</td>   <td>0.0174</td>  <td>0.9747</td>  <td>0.3297</td> <td>-0.0171</td> <td>0.0509</td>\n",
       "</tr>\n",
       "<tr>\n",
       "  <th>estag[4maca]:desf</th> <td>0.0173</td>   <td>0.0174</td>  <td>0.9960</td>  <td>0.3193</td> <td>-0.0167</td> <td>0.0513</td>\n",
       "</tr>\n",
       "<tr>\n",
       "  <th>estag[5capu]:desf</th> <td>0.0239</td>   <td>0.0174</td>  <td>1.3763</td>  <td>0.1687</td> <td>-0.0101</td> <td>0.0580</td>\n",
       "</tr>\n",
       "<tr>\n",
       "  <th>I(desf ^ 2)</th>       <td>-0.0251</td>  <td>0.0177</td>  <td>-1.4178</td> <td>0.1562</td> <td>-0.0598</td> <td>0.0096</td>\n",
       "</tr>\n",
       "</table>"
      ],
      "text/plain": [
       "<class 'statsmodels.iolib.summary2.Summary'>\n",
       "\"\"\"\n",
       "               Results: Generalized linear model\n",
       "================================================================\n",
       "Model:                GLM              AIC:            530.9393 \n",
       "Link Function:        log              BIC:            -537.1531\n",
       "Dependent Variable:   ncapu            Log-Likelihood: -258.47  \n",
       "Date:                 2018-01-26 11:43 LL-Null:        -279.93  \n",
       "No. Observations:     125              Deviance:       32.588   \n",
       "Df Model:             6                Pearson chi2:   32.6     \n",
       "Df Residuals:         118              Scale:          1.0000   \n",
       "Method:               IRLS                                      \n",
       "----------------------------------------------------------------\n",
       "                   Coef.  Std.Err.    z    P>|z|   [0.025 0.975]\n",
       "----------------------------------------------------------------\n",
       "Intercept          2.2690   0.0582 38.9845 0.0000  2.1549 2.3831\n",
       "estag[1veg]:desf   0.0218   0.0174  1.2544 0.2097 -0.0123 0.0558\n",
       "estag[2bot]:desf   0.0229   0.0174  1.3161 0.1881 -0.0112 0.0569\n",
       "estag[3flor]:desf  0.0169   0.0174  0.9747 0.3297 -0.0171 0.0509\n",
       "estag[4maca]:desf  0.0173   0.0174  0.9960 0.3193 -0.0167 0.0513\n",
       "estag[5capu]:desf  0.0239   0.0174  1.3763 0.1687 -0.0101 0.0580\n",
       "I(desf ^ 2)       -0.0251   0.0177 -1.4178 0.1562 -0.0598 0.0096\n",
       "================================================================\n",
       "\n",
       "\"\"\""
      ]
     },
     "execution_count": 22,
     "metadata": {},
     "output_type": "execute_result"
    }
   ],
   "source": [
    "from __future__ import print_function\n",
    "import statsmodels.api as sm\n",
    "import statsmodels.formula.api as smf\n",
    "\n",
    "# Poisson models\n",
    "mod1 = smf.glm('ncapu ~ 1', data = cap,family=sm.families.Poisson()).fit()\n",
    "mod2 = smf.glm('ncapu ~ desf + I(desf^2)', data = cap,family=sm.families.Poisson()).fit()\n",
    "mod3 = smf.glm('ncapu ~ estag:desf + I(desf^2)', data = cap,family=sm.families.Poisson()).fit()\n",
    "mod4 = smf.glm('ncapu ~ estag:(desf + I(desf^2))', data = cap,family=sm.families.Poisson()).fit()\n",
    "print([mod1.aic, mod2.aic, mod3.aic, mod4.aic])\n",
    "\n",
    "mod3.summary2()"
   ]
  },
  {
   "cell_type": "markdown",
   "metadata": {},
   "source": [
    "Ajustando o modelo binomial negativo."
   ]
  },
  {
   "cell_type": "code",
   "execution_count": 23,
   "metadata": {},
   "outputs": [
    {
     "name": "stdout",
     "output_type": "stream",
     "text": [
      "[781.63522755954864, 783.55894916741647, 788.12151683196714, 795.32654572058107]\n"
     ]
    },
    {
     "data": {
      "text/html": [
       "<table class=\"simpletable\">\n",
       "<tr>\n",
       "        <td>Model:</td>               <td>GLM</td>            <td>AIC:</td>       <td>788.1215</td> \n",
       "</tr>\n",
       "<tr>\n",
       "    <td>Link Function:</td>           <td>log</td>            <td>BIC:</td>       <td>-565.7628</td>\n",
       "</tr>\n",
       "<tr>\n",
       "  <td>Dependent Variable:</td>       <td>ncapu</td>      <td>Log-Likelihood:</td>  <td>-387.06</td> \n",
       "</tr>\n",
       "<tr>\n",
       "         <td>Date:</td>        <td>2018-01-26 11:43</td>    <td>LL-Null:</td>      <td>-389.82</td> \n",
       "</tr>\n",
       "<tr>\n",
       "   <td>No. Observations:</td>         <td>125</td>          <td>Deviance:</td>     <td>3.9782</td>  \n",
       "</tr>\n",
       "<tr>\n",
       "       <td>Df Model:</td>              <td>6</td>         <td>Pearson chi2:</td>    <td>3.91</td>   \n",
       "</tr>\n",
       "<tr>\n",
       "     <td>Df Residuals:</td>           <td>118</td>           <td>Scale:</td>      <td>0.033136</td> \n",
       "</tr>\n",
       "<tr>\n",
       "        <td>Method:</td>             <td>IRLS</td>              <td></td>             <td></td>     \n",
       "</tr>\n",
       "</table>\n",
       "<table class=\"simpletable\">\n",
       "<tr>\n",
       "          <td></td>           <th>Coef.</th>  <th>Std.Err.</th>    <th>z</th>     <th>P>|z|</th> <th>[0.025</th>  <th>0.975]</th> \n",
       "</tr>\n",
       "<tr>\n",
       "  <th>Intercept</th>         <td>2.2793</td>   <td>0.0319</td>  <td>71.3848</td> <td>0.0000</td> <td>2.2167</td>  <td>2.3419</td> \n",
       "</tr>\n",
       "<tr>\n",
       "  <th>estag[1veg]:desf</th>  <td>0.0273</td>   <td>0.0092</td>  <td>2.9822</td>  <td>0.0029</td> <td>0.0094</td>  <td>0.0453</td> \n",
       "</tr>\n",
       "<tr>\n",
       "  <th>estag[2bot]:desf</th>  <td>0.0284</td>   <td>0.0092</td>  <td>3.1057</td>  <td>0.0019</td> <td>0.0105</td>  <td>0.0464</td> \n",
       "</tr>\n",
       "<tr>\n",
       "  <th>estag[3flor]:desf</th> <td>0.0228</td>   <td>0.0092</td>  <td>2.4930</td>  <td>0.0127</td> <td>0.0049</td>  <td>0.0408</td> \n",
       "</tr>\n",
       "<tr>\n",
       "  <th>estag[4maca]:desf</th> <td>0.0224</td>   <td>0.0092</td>  <td>2.4444</td>  <td>0.0145</td> <td>0.0044</td>  <td>0.0403</td> \n",
       "</tr>\n",
       "<tr>\n",
       "  <th>estag[5capu]:desf</th> <td>0.0296</td>   <td>0.0092</td>  <td>3.2314</td>  <td>0.0012</td> <td>0.0116</td>  <td>0.0476</td> \n",
       "</tr>\n",
       "<tr>\n",
       "  <th>I(desf ^ 2)</th>       <td>-0.0308</td>  <td>0.0093</td>  <td>-3.3191</td> <td>0.0009</td> <td>-0.0490</td> <td>-0.0126</td>\n",
       "</tr>\n",
       "</table>"
      ],
      "text/plain": [
       "<class 'statsmodels.iolib.summary2.Summary'>\n",
       "\"\"\"\n",
       "                Results: Generalized linear model\n",
       "=================================================================\n",
       "Model:               GLM               AIC:             788.1215 \n",
       "Link Function:       log               BIC:             -565.7628\n",
       "Dependent Variable:  ncapu             Log-Likelihood:  -387.06  \n",
       "Date:                2018-01-26 11:43  LL-Null:         -389.82  \n",
       "No. Observations:    125               Deviance:        3.9782   \n",
       "Df Model:            6                 Pearson chi2:    3.91     \n",
       "Df Residuals:        118               Scale:           0.033136 \n",
       "Method:              IRLS                                        \n",
       "-----------------------------------------------------------------\n",
       "                   Coef.  Std.Err.    z    P>|z|   [0.025  0.975]\n",
       "-----------------------------------------------------------------\n",
       "Intercept          2.2793   0.0319 71.3848 0.0000  2.2167  2.3419\n",
       "estag[1veg]:desf   0.0273   0.0092  2.9822 0.0029  0.0094  0.0453\n",
       "estag[2bot]:desf   0.0284   0.0092  3.1057 0.0019  0.0105  0.0464\n",
       "estag[3flor]:desf  0.0228   0.0092  2.4930 0.0127  0.0049  0.0408\n",
       "estag[4maca]:desf  0.0224   0.0092  2.4444 0.0145  0.0044  0.0403\n",
       "estag[5capu]:desf  0.0296   0.0092  3.2314 0.0012  0.0116  0.0476\n",
       "I(desf ^ 2)       -0.0308   0.0093 -3.3191 0.0009 -0.0490 -0.0126\n",
       "=================================================================\n",
       "\n",
       "\"\"\""
      ]
     },
     "execution_count": 23,
     "metadata": {},
     "output_type": "execute_result"
    }
   ],
   "source": [
    "# Negative binomial models\n",
    "mod1 = smf.glm('ncapu ~ 1', data = cap,family=sm.families.NegativeBinomial()).fit()\n",
    "mod2 = smf.glm('ncapu ~ desf + I(desf^2)', data = cap,family=sm.families.NegativeBinomial()).fit()\n",
    "mod3 = smf.glm('ncapu ~ estag:desf + I(desf^2)', data = cap,family=sm.families.NegativeBinomial()).fit()\n",
    "mod4 = smf.glm('ncapu ~ estag:(desf + I(desf^2))', data = cap,family=sm.families.NegativeBinomial()).fit()\n",
    "print([mod1.aic, mod2.aic, mod3.aic, mod4.aic])\n",
    "\n",
    "mod3.summary2()"
   ]
  }
 ],
 "metadata": {
  "kernelspec": {
   "display_name": "Python 3",
   "language": "python",
   "name": "python3"
  },
  "language_info": {
   "codemirror_mode": {
    "name": "ipython",
    "version": 3
   },
   "file_extension": ".py",
   "mimetype": "text/x-python",
   "name": "python",
   "nbconvert_exporter": "python",
   "pygments_lexer": "ipython3",
   "version": "3.6.9"
  }
 },
 "nbformat": 4,
 "nbformat_minor": 2
}
