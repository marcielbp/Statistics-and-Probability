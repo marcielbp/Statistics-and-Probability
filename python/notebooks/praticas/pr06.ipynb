{
 "cells": [
  {
   "cell_type": "markdown",
   "metadata": {},
   "source": [
    "# Prática 06 - Bibliotecas de visualização geográficas"
   ]
  },
  {
   "cell_type": "markdown",
   "metadata": {},
   "source": []
  },
  {
   "cell_type": "code",
   "execution_count": 20,
   "metadata": {},
   "outputs": [],
   "source": [
    "import altair as alt\n",
    "from vega_datasets import data\n",
    "import geopandas as gpd\n",
    "import json\n",
    "\n",
    "#fp = \"data/municipios_simp.json\"\n",
    "fp = \"data/estados.json\""
   ]
  },
  {
   "cell_type": "markdown",
   "metadata": {},
   "source": [
    "A função definida a seguir foi baseada [neste exemplo](https://www.districtdatalabs.com/altair-choropleth-viz). O objetivo é criar um objeto `mapa` com as layers: `base`,`choropleth` e `labels`"
   ]
  },
  {
   "cell_type": "code",
   "execution_count": 17,
   "metadata": {},
   "outputs": [],
   "source": [
    "# check https://www.districtdatalabs.com/altair-choropleth-viz\n",
    "\n",
    "def gen_map(geodata, color_column, title, tooltip):\n",
    "    # Add Base Layer\n",
    "    selection = alt.selection_multi(fields=[color_column]) \n",
    "    base = alt.Chart(geodata, title = title).mark_geoshape(\n",
    "        stroke='black',\n",
    "        strokeWidth=1\n",
    "    ).encode(\n",
    "    ).properties(\n",
    "        width=800,\n",
    "        height=800\n",
    "    )\n",
    "    # Add Choropleth Layer\n",
    "    choro = alt.Chart(geodata).mark_geoshape(\n",
    "        fill='lightgray',\n",
    "        stroke='black'\n",
    "    ).encode(\n",
    "        alt.Color(color_column, \n",
    "                  type='quantitative', \n",
    "                  scale=alt.Scale(scheme='bluegreen'),\n",
    "                  title = title),\n",
    "        tooltip=tooltip).add_selection(\n",
    "        selection\n",
    "    )\n",
    "    # Add Labels Layer\n",
    "    labels = alt.Chart(geodata).mark_text(baseline='top'\n",
    "     ).properties(\n",
    "        width=400,\n",
    "        height=400\n",
    "     ).encode(\n",
    "         longitude='properties.centroid_lon:Q',\n",
    "         latitude='properties.centroid_lat:Q',\n",
    "         text='properties.SIGLA:O',\n",
    "         size=alt.value(8),\n",
    "         opacity=alt.value(1)\n",
    "     )\n",
    "\n",
    "    return base + choro + labels"
   ]
  },
  {
   "cell_type": "markdown",
   "metadata": {},
   "source": [
    "Aqui fazemos a conversão do objeto `GeoJson` em um [Pandas](www.pandas.pydata.org) `DataFrame`"
   ]
  },
  {
   "cell_type": "code",
   "execution_count": 21,
   "metadata": {},
   "outputs": [],
   "source": [
    "customGeoJson = gpd.read_file(fp)\n",
    "gdf = gpd.GeoDataFrame.from_features(customGeoJson)"
   ]
  },
  {
   "cell_type": "code",
   "execution_count": 12,
   "metadata": {},
   "outputs": [],
   "source": [
    "gdf = gdf[gdf['GEOCODIGO'].astype(int)>=20000]"
   ]
  },
  {
   "cell_type": "code",
   "execution_count": 22,
   "metadata": {},
   "outputs": [
    {
     "data": {
      "text/html": [
       "<div>\n",
       "<style scoped>\n",
       "    .dataframe tbody tr th:only-of-type {\n",
       "        vertical-align: middle;\n",
       "    }\n",
       "\n",
       "    .dataframe tbody tr th {\n",
       "        vertical-align: top;\n",
       "    }\n",
       "\n",
       "    .dataframe thead th {\n",
       "        text-align: right;\n",
       "    }\n",
       "</style>\n",
       "<table border=\"1\" class=\"dataframe\">\n",
       "  <thead>\n",
       "    <tr style=\"text-align: right;\">\n",
       "      <th></th>\n",
       "      <th>geometry</th>\n",
       "      <th>GEOCODIGO</th>\n",
       "      <th>GEOMETRIAA</th>\n",
       "      <th>NOME</th>\n",
       "      <th>NOMEABREV</th>\n",
       "      <th>SIGLA</th>\n",
       "      <th>centroid_lon</th>\n",
       "      <th>centroid_lat</th>\n",
       "    </tr>\n",
       "  </thead>\n",
       "  <tbody>\n",
       "    <tr>\n",
       "      <th>0</th>\n",
       "      <td>POLYGON ((-40.52155087297817 -7.31933745906446...</td>\n",
       "      <td>23</td>\n",
       "      <td>Não</td>\n",
       "      <td>Ceará</td>\n",
       "      <td>Ceará</td>\n",
       "      <td>CE</td>\n",
       "      <td>-39.616319</td>\n",
       "      <td>-5.089406</td>\n",
       "    </tr>\n",
       "    <tr>\n",
       "      <th>1</th>\n",
       "      <td>(POLYGON ((-29.34587513098174 0.91730372350471...</td>\n",
       "      <td>53</td>\n",
       "      <td>Não</td>\n",
       "      <td>Distrito Federal</td>\n",
       "      <td>Distrito Federal</td>\n",
       "      <td>DF</td>\n",
       "      <td>-47.790753</td>\n",
       "      <td>-15.780375</td>\n",
       "    </tr>\n",
       "    <tr>\n",
       "      <th>2</th>\n",
       "      <td>POLYGON ((-40.96056096348602 -21.2974821650153...</td>\n",
       "      <td>32</td>\n",
       "      <td>Não</td>\n",
       "      <td>Espírito Santo</td>\n",
       "      <td>Espírito Santo</td>\n",
       "      <td>ES</td>\n",
       "      <td>-40.671995</td>\n",
       "      <td>-19.580448</td>\n",
       "    </tr>\n",
       "    <tr>\n",
       "      <th>3</th>\n",
       "      <td>(POLYGON ((-50.41083280930408 1.86076035569839...</td>\n",
       "      <td>16</td>\n",
       "      <td>Não</td>\n",
       "      <td>Amapá</td>\n",
       "      <td>Amapá</td>\n",
       "      <td>AP</td>\n",
       "      <td>-51.964711</td>\n",
       "      <td>1.441056</td>\n",
       "    </tr>\n",
       "    <tr>\n",
       "      <th>4</th>\n",
       "      <td>POLYGON ((-63.37845684336658 2.229662499994111...</td>\n",
       "      <td>14</td>\n",
       "      <td>Não</td>\n",
       "      <td>Roraima</td>\n",
       "      <td>Roraima</td>\n",
       "      <td>RR</td>\n",
       "      <td>-61.388990</td>\n",
       "      <td>2.090681</td>\n",
       "    </tr>\n",
       "  </tbody>\n",
       "</table>\n",
       "</div>"
      ],
      "text/plain": [
       "                                            geometry GEOCODIGO GEOMETRIAA  \\\n",
       "0  POLYGON ((-40.52155087297817 -7.31933745906446...        23        Não   \n",
       "1  (POLYGON ((-29.34587513098174 0.91730372350471...        53        Não   \n",
       "2  POLYGON ((-40.96056096348602 -21.2974821650153...        32        Não   \n",
       "3  (POLYGON ((-50.41083280930408 1.86076035569839...        16        Não   \n",
       "4  POLYGON ((-63.37845684336658 2.229662499994111...        14        Não   \n",
       "\n",
       "               NOME         NOMEABREV SIGLA  centroid_lon  centroid_lat  \n",
       "0             Ceará             Ceará    CE    -39.616319     -5.089406  \n",
       "1  Distrito Federal  Distrito Federal    DF    -47.790753    -15.780375  \n",
       "2    Espírito Santo    Espírito Santo    ES    -40.671995    -19.580448  \n",
       "3             Amapá             Amapá    AP    -51.964711      1.441056  \n",
       "4           Roraima           Roraima    RR    -61.388990      2.090681  "
      ]
     },
     "execution_count": 22,
     "metadata": {},
     "output_type": "execute_result"
    }
   ],
   "source": [
    "gdf['centroid_lon'] = gdf['geometry'].centroid.x\n",
    "gdf['centroid_lat'] = gdf['geometry'].centroid.y\n",
    "gdf.head()"
   ]
  },
  {
   "cell_type": "code",
   "execution_count": 23,
   "metadata": {},
   "outputs": [],
   "source": [
    "choro_json = json.loads(gdf.to_json())\n",
    "choro_data = alt.Data(values=choro_json['features'])"
   ]
  },
  {
   "cell_type": "code",
   "execution_count": 24,
   "metadata": {},
   "outputs": [],
   "source": [
    "pop_2000_map = gen_map(geodata=choro_data, color_column='GEOCODIGO', title='2000',tooltip=['properties.NOME:O','properties.SIGLA:Q'])\n",
    "pop_2000_map\n",
    "html = pop_2000_map.to_html()\n",
    "with open('predominant_styles_by_neighbhourhood.html', 'w') as f:\n",
    "    f.write(html)"
   ]
  }
 ],
 "metadata": {
  "kernelspec": {
   "display_name": "Python 3",
   "language": "python",
   "name": "python3"
  },
  "language_info": {
   "codemirror_mode": {
    "name": "ipython",
    "version": 3
   },
   "file_extension": ".py",
   "mimetype": "text/x-python",
   "name": "python",
   "nbconvert_exporter": "python",
   "pygments_lexer": "ipython3",
   "version": "3.6.9"
  }
 },
 "nbformat": 4,
 "nbformat_minor": 2
}
