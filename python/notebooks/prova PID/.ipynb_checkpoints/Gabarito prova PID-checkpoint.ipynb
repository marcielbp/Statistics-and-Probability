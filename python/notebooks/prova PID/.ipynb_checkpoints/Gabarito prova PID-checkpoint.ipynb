{
 "cells": [
  {
   "cell_type": "code",
   "execution_count": 76,
   "metadata": {},
   "outputs": [],
   "source": [
    "import pandas as pd\n",
    "candidatos = pd.DataFrame()\n",
    "candidatos['NOME'] = [\"FABIO JOSE DOS SANTOS SOUSA\", \n",
    "                      \"FRANCISCO MAILSON MOURAO BEZERRA\", \n",
    "                      \"FRANCISCO WYLHAN PEREIRA DOS SANTOS\", \n",
    "                      \"JOICE MARIA DE PAIVA SILVA\", \n",
    "                      \"JOSE JAILSON DE OLIVEIRA SAMPAIO\", \n",
    "                      \"MARIA ZILDA CHAVES MARTINS\", \n",
    "                      \"RODRIGO IURI MORAIS MOREIRA\"]\n",
    "candidatos['FASE_1'] = [9.1, 8.0, 9.1, 7.6, 7.9, 7.0, 10.0]\n",
    "candidatos['FASE_2_Q1'] = [0.0, 0.0, 0.0, 0.0, 0.0, 0.0, 0.0]\n",
    "candidatos['FASE_2_Q2'] = [0.0, 0.0, 0.0, 0.0, 0.0, 0.0, 0.0]\n",
    "candidatos['FASE_2_Q3'] = [0.0, 0.0, 0.0, 0.0, 0.0, 0.0, 0.0]\n",
    "candidatos['FASE_2_Q4'] = [0.0, 0.0, 0.0, 0.0, 0.0, 0.0, 0.0]\n",
    "candidatos['FASE_2'] = [0.0, 0.0, 0.0, 0.0, 0.0, 0.0, 0.0]\n",
    "candidatos['FASE_3'] = [0.0, 0.0, 0.0, 0.0, 0.0, 0.0, 0.0]\n",
    "\n",
    "candidatos = candidatos[candidatos.NOME != 'FRANCISCO MAILSON MOURAO BEZERRA']\n",
    "candidatos = candidatos[candidatos.NOME != 'MARIA ZILDA CHAVES MARTINS']"
   ]
  },
  {
   "cell_type": "markdown",
   "metadata": {},
   "source": [
    "# Questão 1: (60%) \n",
    "Disserte sobre o tema sorteado:\n",
    "\n",
    "> **Intervalos de confiança;**\n",
    "\n",
    "Tópicos a serem explorados:\n",
    "- Distribuição amostral da média, variância e proporção\n",
    "- I.C. para a média, variância conhecida\n",
    "- I.C. para a média, variância desconhecida\n",
    "- I.C. para a variãncia\n",
    "- I.C. para a proporção\n",
    "- Distribuição Normal\n",
    "- Disribuição t-Student\n",
    "- Distribuiçao Chi-Quadrado\n",
    "- Exemplos\n",
    "\n",
    "Sugstão de correção: \n",
    "2,0 pontos se o discente explicou corretamente a ideia geral de um intervalo de confiança\n",
    "0,2 para cada tópico que tiver sido mencionado superficialmente\n",
    "0,4 para cada tópico que foi comentado (0,3 se contiver erros)\n",
    "0,7 para cada tópico explorado corretamente "
   ]
  },
  {
   "cell_type": "code",
   "execution_count": null,
   "metadata": {},
   "outputs": [],
   "source": []
  },
  {
   "cell_type": "markdown",
   "metadata": {},
   "source": [
    "# Questão 2: (15%) \n",
    "Seja a série a seguir que representa a temperatura de efluentes descarregados de uma estação de tratamento em dias consecutivos, em ºC, determine os quartis q1e q3, mediana x̃ e a média amostral x\n",
    "\n",
    "> 43   52   45   44   49   48   47   50\n",
    "> 51   46   46   46   44   49   48   49\n"
   ]
  },
  {
   "cell_type": "code",
   "execution_count": 10,
   "metadata": {},
   "outputs": [
    {
     "name": "stdout",
     "output_type": "stream",
     "text": [
      "[43 44 44 45 46 46 46 47 48 48 49 49 49 50 51 52]\n",
      "q_1: 45.75\n",
      "x^: 47.5\n",
      "x_: 47.3125\n",
      "q_3: 49.0\n"
     ]
    }
   ],
   "source": [
    "import numpy as np\n",
    "\n",
    "a = [43, 52, 45, 44, 49, 48, 47, 50, 51, 46, 46, 46, 44, 49, 48, 49]\n",
    "print(np.sort(a))\n",
    "print(\"q_1:\",np.quantile(a, 0.25))\n",
    "print(\"x^:\",np.quantile(a, 0.5))\n",
    "print(\"x_:\",np.mean(a))\n",
    "print(\"q_3:\",np.quantile(a, 0.75))"
   ]
  },
  {
   "cell_type": "markdown",
   "metadata": {},
   "source": [
    "FABIO JOSE DOS SANTOS SOUSA - 50%\n",
    "FRANCISCO WYLHAN PEREIRA DOS SANTOS - 25%\n",
    "JOICE MARIA DE PAIVA SILVA - 75%\n",
    "JOSE JAILSON DE OLIVEIRA SAMPAIO - 50%\n",
    "RODRIGO IURI MORAIS MOREIRA - 50%"
   ]
  },
  {
   "cell_type": "markdown",
   "metadata": {},
   "source": [
    "# Questão 3: (10%) \n",
    "Um restaurante popular apresenta apenas dois tipos de refeições: salada completa ou um prato à base de carne. 20% dos fregueses do sexo masculino preferem salada, 30% das mulheres escolhem carne, 75% dos fregueses são homens. Considere os seguintes eventos: \n",
    "\n",
    "|  |  |\n",
    "| :-: | :-: |\n",
    "|**H:** freguês é homem (75%)|**A:** freguês prefere salada,|\n",
    "|**M:** freguês é mulher (25%)|**B:** freguês prefere carne.|\n",
    "\n",
    "Determine a probabilidade de um cliente pedir salada dado que é homem;\n",
    "\n",
    "> R: uma vez que já se sabe que o cliente é homem, a probabilidade de pedir salada é de 20%\n"
   ]
  },
  {
   "cell_type": "code",
   "execution_count": 20,
   "metadata": {},
   "outputs": [],
   "source": [
    "import numpy as np\n",
    "prob1 = [0.75, 0.25]\n",
    "probH = [0.20, 0.80]\n",
    "probM = [0.7, 0.3]"
   ]
  },
  {
   "cell_type": "markdown",
   "metadata": {},
   "source": [
    "FABIO JOSE DOS SANTOS SOUSA - 40%\n",
    "FRANCISCO WYLHAN PEREIRA DOS SANTOS - 0%\n",
    "JOICE MARIA DE PAIVA SILVA - 40%\n",
    "JOSE JAILSON DE OLIVEIRA SAMPAIO - 40%\n",
    "RODRIGO IURI MORAIS MOREIRA - 40%"
   ]
  },
  {
   "cell_type": "markdown",
   "metadata": {},
   "source": [
    "# Questão 4: (15%) \n",
    "Um engenheiro civil está analisando a resistência à compressão do concreto. A resistência à compressão tem distribuição normal com σ² = 1000. Uma amostra aleatória de 12 corpos-de-prova foi analisada e apresentou as seguintes resistências à compressão: \n",
    "> 3472 3470 3465 3487 3459 3465 3459 3484 3483 3413 3418 3455\n",
    "\n",
    "Construa o intervalo bilateral de 95% de confiança para resistência média à compressão.\n"
   ]
  },
  {
   "cell_type": "code",
   "execution_count": 18,
   "metadata": {},
   "outputs": [
    {
     "name": "stdout",
     "output_type": "stream",
     "text": [
      "IC media: 3442.94 <= x_ < = 3478.73\n"
     ]
    }
   ],
   "source": [
    "import numpy as np\n",
    "a = [3472, 3470, 3465, 3487, 3459, 3465, 3459, 3484, 3483, 3413, 3418, 3455]\n",
    "n = len(a)\n",
    "za2 = 1.96\n",
    "delta = za2*np.sqrt(1000)/np.sqrt(n)\n",
    "print(\"IC media: {0:.2f} <= x_ < = {1:.2f}\".format(np.mean(a)-delta,np.mean(a)+delta))"
   ]
  },
  {
   "cell_type": "markdown",
   "metadata": {},
   "source": [
    "FABIO JOSE DOS SANTOS SOUSA - 100%\n",
    "FRANCISCO WYLHAN PEREIRA DOS SANTOS - 30%\n",
    "JOICE MARIA DE PAIVA SILVA - 100%\n",
    "JOSE JAILSON DE OLIVEIRA SAMPAIO - 60%\n",
    "RODRIGO IURI MORAIS MOREIRA - 45%"
   ]
  }
 ],
 "metadata": {
  "kernelspec": {
   "display_name": "Python 3",
   "language": "python",
   "name": "python3"
  },
  "language_info": {
   "codemirror_mode": {
    "name": "ipython",
    "version": 3
   },
   "file_extension": ".py",
   "mimetype": "text/x-python",
   "name": "python",
   "nbconvert_exporter": "python",
   "pygments_lexer": "ipython3",
   "version": "3.7.4"
  }
 },
 "nbformat": 4,
 "nbformat_minor": 2
}
